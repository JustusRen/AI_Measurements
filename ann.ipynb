{
 "cells": [
  {
   "cell_type": "markdown",
   "metadata": {},
   "source": [
    "# Artificial Neural Network"
   ]
  },
  {
   "cell_type": "code",
   "execution_count": 39,
   "metadata": {},
   "outputs": [],
   "source": [
    "import pandas as pd\n",
    "import os\n",
    "from sklearn.feature_extraction.text import TfidfVectorizer, CountVectorizer\n",
    "from sklearn.model_selection import train_test_split\n",
    "from common import *\n",
    "import tarfile\n",
    "import glob\n",
    "import tensorflow as tf\n",
    "from keras.backend import clear_session\n"
   ]
  },
  {
   "cell_type": "code",
   "execution_count": 40,
   "metadata": {},
   "outputs": [
    {
     "name": "stdout",
     "output_type": "stream",
     "text": [
      "Size of dataset: 100000\n"
     ]
    },
    {
     "data": {
      "text/html": [
       "<div>\n",
       "<style scoped>\n",
       "    .dataframe tbody tr th:only-of-type {\n",
       "        vertical-align: middle;\n",
       "    }\n",
       "\n",
       "    .dataframe tbody tr th {\n",
       "        vertical-align: top;\n",
       "    }\n",
       "\n",
       "    .dataframe thead th {\n",
       "        text-align: right;\n",
       "    }\n",
       "</style>\n",
       "<table border=\"1\" class=\"dataframe\">\n",
       "  <thead>\n",
       "    <tr style=\"text-align: right;\">\n",
       "      <th></th>\n",
       "      <th>text</th>\n",
       "      <th>label</th>\n",
       "    </tr>\n",
       "  </thead>\n",
       "  <tbody>\n",
       "    <tr>\n",
       "      <th>0</th>\n",
       "      <td>Tromeo and Juliet is perhaps the best Shakespe...</td>\n",
       "      <td>1</td>\n",
       "    </tr>\n",
       "    <tr>\n",
       "      <th>1</th>\n",
       "      <td>The book \"The Railway Children\" is a children'...</td>\n",
       "      <td>1</td>\n",
       "    </tr>\n",
       "    <tr>\n",
       "      <th>2</th>\n",
       "      <td>If you're into alternate realities, contemplat...</td>\n",
       "      <td>1</td>\n",
       "    </tr>\n",
       "    <tr>\n",
       "      <th>3</th>\n",
       "      <td>If not the best movie ever made, \"Babette's Fe...</td>\n",
       "      <td>1</td>\n",
       "    </tr>\n",
       "    <tr>\n",
       "      <th>4</th>\n",
       "      <td>SPOILERS BELOW&lt;br /&gt;&lt;br /&gt;`A Dog's Life' was m...</td>\n",
       "      <td>1</td>\n",
       "    </tr>\n",
       "  </tbody>\n",
       "</table>\n",
       "</div>"
      ],
      "text/plain": [
       "                                                text  label\n",
       "0  Tromeo and Juliet is perhaps the best Shakespe...      1\n",
       "1  The book \"The Railway Children\" is a children'...      1\n",
       "2  If you're into alternate realities, contemplat...      1\n",
       "3  If not the best movie ever made, \"Babette's Fe...      1\n",
       "4  SPOILERS BELOW<br /><br />`A Dog's Life' was m...      1"
      ]
     },
     "execution_count": 40,
     "metadata": {},
     "output_type": "execute_result"
    }
   ],
   "source": [
    "if not os.path.exists('aclImdb'):\n",
    "    if not os.path.exists('aclImdb_v1.tar.gz'):\n",
    "        files = download_data()\n",
    "    else:\n",
    "        files = ['aclImdb_v1.tar.gz']\n",
    "    \n",
    "    tarfile.open(files[0]).extractall()\n",
    "\n",
    "paths = glob.glob('aclImdb/**/pos/*.txt', recursive=True)\n",
    "pos_frame = get_data(paths, 1)\n",
    "paths = glob.glob('aclImdb/**/neg/*.txt', recursive=True)\n",
    "neg_frame = get_data(paths, 0)\n",
    "\n",
    "df = pd.concat([pos_frame, neg_frame])\n",
    "print(f'Size of dataset: {df.size}')\n",
    "df.head()"
   ]
  },
  {
   "cell_type": "code",
   "execution_count": 41,
   "metadata": {},
   "outputs": [
    {
     "data": {
      "text/html": [
       "<div>\n",
       "<style scoped>\n",
       "    .dataframe tbody tr th:only-of-type {\n",
       "        vertical-align: middle;\n",
       "    }\n",
       "\n",
       "    .dataframe tbody tr th {\n",
       "        vertical-align: top;\n",
       "    }\n",
       "\n",
       "    .dataframe thead th {\n",
       "        text-align: right;\n",
       "    }\n",
       "</style>\n",
       "<table border=\"1\" class=\"dataframe\">\n",
       "  <thead>\n",
       "    <tr style=\"text-align: right;\">\n",
       "      <th></th>\n",
       "      <th>text</th>\n",
       "      <th>label</th>\n",
       "    </tr>\n",
       "  </thead>\n",
       "  <tbody>\n",
       "    <tr>\n",
       "      <th>1247</th>\n",
       "      <td>As a kid, this movie scared me green. As an ad...</td>\n",
       "      <td>0</td>\n",
       "    </tr>\n",
       "    <tr>\n",
       "      <th>10067</th>\n",
       "      <td>It is a movie which sheds the light on the beg...</td>\n",
       "      <td>0</td>\n",
       "    </tr>\n",
       "    <tr>\n",
       "      <th>9590</th>\n",
       "      <td>Talk about being boring!&lt;br /&gt;&lt;br /&gt;I got this...</td>\n",
       "      <td>0</td>\n",
       "    </tr>\n",
       "    <tr>\n",
       "      <th>16668</th>\n",
       "      <td>One of Disney's best films that I can enjoy wa...</td>\n",
       "      <td>1</td>\n",
       "    </tr>\n",
       "    <tr>\n",
       "      <th>12196</th>\n",
       "      <td>Being a bit of a connoisseur of garbage, I hav...</td>\n",
       "      <td>1</td>\n",
       "    </tr>\n",
       "  </tbody>\n",
       "</table>\n",
       "</div>"
      ],
      "text/plain": [
       "                                                    text  label\n",
       "1247   As a kid, this movie scared me green. As an ad...      0\n",
       "10067  It is a movie which sheds the light on the beg...      0\n",
       "9590   Talk about being boring!<br /><br />I got this...      0\n",
       "16668  One of Disney's best films that I can enjoy wa...      1\n",
       "12196  Being a bit of a connoisseur of garbage, I hav...      1"
      ]
     },
     "execution_count": 41,
     "metadata": {},
     "output_type": "execute_result"
    }
   ],
   "source": [
    "df = df.sample(n=NUM_SAMPLES, random_state=RANDOM_SEED)\n",
    "df.head()"
   ]
  },
  {
   "cell_type": "code",
   "execution_count": 42,
   "metadata": {},
   "outputs": [
    {
     "name": "stdout",
     "output_type": "stream",
     "text": [
      "Train shape: (2500, 51072)\n",
      "Test shape: (2500, 51072)\n"
     ]
    }
   ],
   "source": [
    "countVectorizer = CountVectorizer()\n",
    "embeddings = preprocess_data(df['text'], countVectorizer)\n",
    "\n",
    "X_tr, X_ts, y_tr, y_ts= train_test_split(embeddings, df['label'], test_size=TEST_SIZE, random_state=RANDOM_SEED)\n",
    "\n",
    "X_tr = X_tr.toarray()\n",
    "X_ts = X_ts.toarray()\n",
    "\n",
    "feature_size = X_tr.shape[1]\n",
    "\n",
    "print(f'Train shape: {X_tr.shape}')\n",
    "print(f'Test shape: {X_ts.shape}')"
   ]
  },
  {
   "cell_type": "code",
   "execution_count": 43,
   "metadata": {},
   "outputs": [
    {
     "name": "stdout",
     "output_type": "stream",
     "text": [
      "Model: \"sequential\"\n",
      "_________________________________________________________________\n",
      " Layer (type)                Output Shape              Param #   \n",
      "=================================================================\n",
      " dense (Dense)               (None, 10)                510730    \n",
      "                                                                 \n",
      " dense_1 (Dense)             (None, 1)                 11        \n",
      "                                                                 \n",
      "=================================================================\n",
      "Total params: 510,741\n",
      "Trainable params: 510,741\n",
      "Non-trainable params: 0\n",
      "_________________________________________________________________\n"
     ]
    }
   ],
   "source": [
    "#first basic ann\n",
    "from keras.models import Sequential\n",
    "from keras import layers\n",
    "\n",
    "input_dim = X_tr.shape[1]  # Number of features\n",
    "\n",
    "model = Sequential()\n",
    "model.add(layers.Dense(10, input_dim=input_dim, activation='relu'))\n",
    "model.add(layers.Dense(1, activation='sigmoid'))\n",
    "model.compile(loss='binary_crossentropy',\n",
    "              optimizer='adam',\n",
    "              metrics=['accuracy'])\n",
    "model.summary()"
   ]
  },
  {
   "cell_type": "code",
   "execution_count": 44,
   "metadata": {},
   "outputs": [
    {
     "name": "stdout",
     "output_type": "stream",
     "text": [
      "Epoch 1/10\n",
      "20/20 [==============================] - 2s 61ms/step - loss: 0.6310 - accuracy: 0.7016 - val_loss: 0.5587 - val_accuracy: 0.7916\n",
      "Epoch 2/10\n",
      "20/20 [==============================] - 1s 33ms/step - loss: 0.4273 - accuracy: 0.8964 - val_loss: 0.4645 - val_accuracy: 0.8468\n",
      "Epoch 3/10\n",
      "20/20 [==============================] - 1s 35ms/step - loss: 0.2875 - accuracy: 0.9580 - val_loss: 0.4134 - val_accuracy: 0.8568\n",
      "Epoch 4/10\n",
      "20/20 [==============================] - 1s 34ms/step - loss: 0.1962 - accuracy: 0.9828 - val_loss: 0.3938 - val_accuracy: 0.8512\n",
      "Epoch 5/10\n",
      "20/20 [==============================] - 1s 33ms/step - loss: 0.1318 - accuracy: 0.9936 - val_loss: 0.3500 - val_accuracy: 0.8688\n",
      "Epoch 6/10\n",
      "20/20 [==============================] - 1s 34ms/step - loss: 0.0912 - accuracy: 0.9968 - val_loss: 0.3390 - val_accuracy: 0.8700\n",
      "Epoch 7/10\n",
      "20/20 [==============================] - 1s 34ms/step - loss: 0.0673 - accuracy: 0.9984 - val_loss: 0.3329 - val_accuracy: 0.8672\n",
      "Epoch 8/10\n",
      "20/20 [==============================] - 1s 35ms/step - loss: 0.0523 - accuracy: 0.9996 - val_loss: 0.3294 - val_accuracy: 0.8664\n",
      "Epoch 9/10\n",
      "20/20 [==============================] - 1s 34ms/step - loss: 0.0415 - accuracy: 1.0000 - val_loss: 0.3278 - val_accuracy: 0.8664\n",
      "Epoch 10/10\n",
      "20/20 [==============================] - 1s 30ms/step - loss: 0.0339 - accuracy: 1.0000 - val_loss: 0.3275 - val_accuracy: 0.8640\n"
     ]
    }
   ],
   "source": [
    "history = model.fit(\n",
    "    X_tr, y_tr,\n",
    "    epochs=EPOCHS,\n",
    "    verbose=True,\n",
    "    validation_data=(X_ts, y_ts),\n",
    "    batch_size=128\n",
    ")"
   ]
  },
  {
   "cell_type": "code",
   "execution_count": 45,
   "metadata": {},
   "outputs": [
    {
     "data": {
      "text/plain": [
       "dict_keys(['loss', 'accuracy', 'val_loss', 'val_accuracy'])"
      ]
     },
     "execution_count": 45,
     "metadata": {},
     "output_type": "execute_result"
    },
    {
     "data": {
      "image/png": "[encoded data removed]",
      "text/plain": [
       "<Figure size 864x360 with 2 Axes>"
      ]
     },
     "metadata": {},
     "output_type": "display_data"
    }
   ],
   "source": [
    "import matplotlib.pyplot as plt\n",
    "plt.style.use('ggplot')\n",
    "\n",
    "def plot_history(history):\n",
    "    acc = history.history['accuracy']\n",
    "    val_acc = history.history['val_accuracy']\n",
    "    loss = history.history['loss']\n",
    "    val_loss = history.history['val_loss']\n",
    "    x = range(1, len(acc) + 1)\n",
    "\n",
    "    plt.figure(figsize=(12, 5))\n",
    "    plt.subplot(1, 2, 1)\n",
    "    plt.plot(x, acc, 'b', label='Training acc')\n",
    "    plt.plot(x, val_acc, 'r', label='Validation acc')\n",
    "    plt.title('Training and validation accuracy')\n",
    "    plt.legend()\n",
    "    plt.subplot(1, 2, 2)\n",
    "    plt.plot(x, loss, 'b', label='Training loss')\n",
    "    plt.plot(x, val_loss, 'r', label='Validation loss')\n",
    "    plt.title('Training and validation loss')\n",
    "    plt.legend()\n",
    "plot_history(history)\n",
    "\n",
    "history.history.keys()"
   ]
  },
  {
   "cell_type": "code",
   "execution_count": 46,
   "metadata": {},
   "outputs": [
    {
     "name": "stdout",
     "output_type": "stream",
     "text": [
      "Training Accuracy: 1.0000\n",
      "Testing Accuracy:  0.8640\n"
     ]
    }
   ],
   "source": [
    "loss, accuracy = model.evaluate(X_tr, y_tr, verbose=False)\n",
    "print(\"Training Accuracy: {:.4f}\".format(accuracy))\n",
    "loss, accuracy = model.evaluate(X_ts, y_ts, verbose=False)\n",
    "print(\"Testing Accuracy:  {:.4f}\".format(accuracy))"
   ]
  },
  {
   "cell_type": "markdown",
   "metadata": {},
   "source": [
    "# CNN"
   ]
  },
  {
   "cell_type": "code",
   "execution_count": 47,
   "metadata": {},
   "outputs": [
    {
     "name": "stdout",
     "output_type": "stream",
     "text": [
      "5677     I watched part of the first part of this movie...\n",
      "8687     i have had this movie, in the back of my head ...\n",
      "1221     I was a huge fan of the original Robocop.<br /...\n",
      "8034     Rita Hayworth as Rusty Parker is the COVER GIR...\n",
      "20403    \"Everything a great documentary could be\"?? Ye...\n",
      "                               ...                        \n",
      "20659    This show had pretty good stories, but bad dia...\n",
      "5543     A great combination: - Chabat's humor - Uderzo...\n",
      "23070    honestly, where can I begin! This was a low bu...\n",
      "1304     ***Possible spoilers***<br /><br />I've read u...\n",
      "8938     Relentless like one of those loud action movie...\n",
      "Name: text, Length: 2500, dtype: object\n"
     ]
    }
   ],
   "source": [
    "sentences_train, sentences_test, y_tr, y_ts= train_test_split(df['text'], df['label'], test_size=TEST_SIZE, random_state=RANDOM_SEED)\n",
    "print(sentences_train)"
   ]
  },
  {
   "cell_type": "code",
   "execution_count": 48,
   "metadata": {},
   "outputs": [],
   "source": [
    "from keras.preprocessing.text import Tokenizer\n",
    "\n",
    "tokenizer = Tokenizer(num_words=5000)\n",
    "tokenizer.fit_on_texts(sentences_train)\n",
    "\n",
    "X_tr = tokenizer.texts_to_sequences(sentences_train)\n",
    "X_ts = tokenizer.texts_to_sequences(sentences_test)\n",
    "\n",
    "vocab_size = len(tokenizer.word_index) + 1  # Adding 1 because of reserved 0 index"
   ]
  },
  {
   "cell_type": "code",
   "execution_count": 49,
   "metadata": {},
   "outputs": [
    {
     "name": "stdout",
     "output_type": "stream",
     "text": [
      "[  10  287  187    4    1   83  187    4   11   16    2 2923  117 1498\n",
      "    4   82  586  294  151 4167   18   10   90  101   11   16    6   66\n",
      "  263  141    1  979  103    2  125 1236  116  794    2    6  266  221\n",
      "   18   47   23   79  166    8    9   14   70    2   48 3233  166    1\n",
      " 1499    2  492    4    9  636   68  124    2   17   84   11   16   56\n",
      "   22   25   52 3883   43 2924    5  115    0    0    0    0    0    0\n",
      "    0    0    0    0    0    0    0    0    0    0    0    0    0    0\n",
      "    0    0]\n"
     ]
    }
   ],
   "source": [
    "from keras.preprocessing.sequence import pad_sequences\n",
    "\n",
    "maxlen = 100\n",
    "\n",
    "X_tr = pad_sequences(X_tr, padding='post', maxlen=maxlen)\n",
    "X_ts = pad_sequences(X_ts, padding='post', maxlen=maxlen)\n",
    "\n",
    "print(X_tr[0, :])\n"
   ]
  },
  {
   "cell_type": "code",
   "execution_count": 50,
   "metadata": {},
   "outputs": [
    {
     "name": "stdout",
     "output_type": "stream",
     "text": [
      "Model: \"sequential_1\"\n",
      "_________________________________________________________________\n",
      " Layer (type)                Output Shape              Param #   \n",
      "=================================================================\n",
      " embedding (Embedding)       (None, 100, 50)           1535050   \n",
      "                                                                 \n",
      " conv1d (Conv1D)             (None, 96, 128)           32128     \n",
      "                                                                 \n",
      " global_max_pooling1d (Globa  (None, 128)              0         \n",
      " lMaxPooling1D)                                                  \n",
      "                                                                 \n",
      " dense_2 (Dense)             (None, 10)                1290      \n",
      "                                                                 \n",
      " dense_3 (Dense)             (None, 1)                 11        \n",
      "                                                                 \n",
      "=================================================================\n",
      "Total params: 1,568,479\n",
      "Trainable params: 1,568,479\n",
      "Non-trainable params: 0\n",
      "_________________________________________________________________\n"
     ]
    }
   ],
   "source": [
    "from keras.layers import Embedding\n",
    "embedding_dim = 50\n",
    "\n",
    "model_cnn = Sequential()\n",
    "model_cnn.add(Embedding(input_dim=vocab_size, \n",
    "                           output_dim=embedding_dim, \n",
    "                           input_length=maxlen))\n",
    "model_cnn.add(layers.Conv1D(128, 5, activation='relu'))\n",
    "model_cnn.add(layers.GlobalMaxPool1D())\n",
    "model_cnn.add(layers.Dense(10, activation='relu'))\n",
    "model_cnn.add(layers.Dense(1, activation='sigmoid'))\n",
    "model_cnn.compile(optimizer='adam',\n",
    "              loss='binary_crossentropy',\n",
    "              metrics=['accuracy'])\n",
    "model_cnn.summary()"
   ]
  },
  {
   "cell_type": "code",
   "execution_count": 51,
   "metadata": {},
   "outputs": [
    {
     "name": "stdout",
     "output_type": "stream",
     "text": [
      "Epoch 1/10\n",
      "20/20 [==============================] - 1s 36ms/step - loss: 0.6926 - accuracy: 0.5100 - val_loss: 0.6910 - val_accuracy: 0.5804\n",
      "Epoch 2/10\n",
      "20/20 [==============================] - 1s 31ms/step - loss: 0.6769 - accuracy: 0.8072 - val_loss: 0.6858 - val_accuracy: 0.5932\n",
      "Epoch 3/10\n",
      "20/20 [==============================] - 1s 31ms/step - loss: 0.6552 - accuracy: 0.8648 - val_loss: 0.6729 - val_accuracy: 0.6852\n",
      "Epoch 4/10\n",
      "20/20 [==============================] - 1s 32ms/step - loss: 0.6111 - accuracy: 0.9252 - val_loss: 0.6346 - val_accuracy: 0.6388\n",
      "Epoch 5/10\n",
      "20/20 [==============================] - 1s 32ms/step - loss: 0.5218 - accuracy: 0.8528 - val_loss: 0.5537 - val_accuracy: 0.7728\n",
      "Epoch 6/10\n",
      "20/20 [==============================] - 1s 32ms/step - loss: 0.3857 - accuracy: 0.9092 - val_loss: 0.4641 - val_accuracy: 0.7936\n",
      "Epoch 7/10\n",
      "20/20 [==============================] - 1s 31ms/step - loss: 0.2500 - accuracy: 0.9476 - val_loss: 0.4165 - val_accuracy: 0.8064\n",
      "Epoch 8/10\n",
      "20/20 [==============================] - 1s 32ms/step - loss: 0.1483 - accuracy: 0.9748 - val_loss: 0.4025 - val_accuracy: 0.8240\n",
      "Epoch 9/10\n",
      "20/20 [==============================] - 1s 32ms/step - loss: 0.0794 - accuracy: 0.9948 - val_loss: 0.4063 - val_accuracy: 0.8164\n",
      "Epoch 10/10\n",
      "20/20 [==============================] - 1s 31ms/step - loss: 0.0417 - accuracy: 1.0000 - val_loss: 0.4241 - val_accuracy: 0.8120\n"
     ]
    }
   ],
   "source": [
    "history = model_cnn.fit(X_tr, y_tr, validation_data=(X_ts, y_ts), epochs=EPOCHS, batch_size=128, verbose=1)"
   ]
  },
  {
   "cell_type": "code",
   "execution_count": 52,
   "metadata": {},
   "outputs": [
    {
     "name": "stdout",
     "output_type": "stream",
     "text": [
      "Training Accuracy: 1.0000\n",
      "Testing Accuracy:  0.8120\n"
     ]
    }
   ],
   "source": [
    "loss, accuracy = model_cnn.evaluate(X_tr, y_tr, verbose=False)\n",
    "print(\"Training Accuracy: {:.4f}\".format(accuracy))\n",
    "loss, accuracy = model_cnn.evaluate(X_ts, y_ts, verbose=False)\n",
    "print(\"Testing Accuracy:  {:.4f}\".format(accuracy))"
   ]
  },
  {
   "cell_type": "code",
   "execution_count": 53,
   "metadata": {},
   "outputs": [
    {
     "data": {
      "text/plain": [
       "dict_keys(['loss', 'accuracy', 'val_loss', 'val_accuracy'])"
      ]
     },
     "execution_count": 53,
     "metadata": {},
     "output_type": "execute_result"
    },
    {
     "data": {
      "image/png": "[encoded data removed]",
      "text/plain": [
       "<Figure size 864x360 with 2 Axes>"
      ]
     },
     "metadata": {},
     "output_type": "display_data"
    }
   ],
   "source": [
    "plt.style.use('ggplot')\n",
    "\n",
    "def plot_history(history):\n",
    "    acc = history.history['accuracy']\n",
    "    val_acc = history.history['val_accuracy']\n",
    "    loss = history.history['loss']\n",
    "    val_loss = history.history['val_loss']\n",
    "    x = range(1, len(acc) + 1)\n",
    "\n",
    "    plt.figure(figsize=(12, 5))\n",
    "    plt.subplot(1, 2, 1)\n",
    "    plt.plot(x, acc, 'b', label='Training acc')\n",
    "    plt.plot(x, val_acc, 'r', label='Validation acc')\n",
    "    plt.title('Training and validation accuracy')\n",
    "    plt.legend()\n",
    "    plt.subplot(1, 2, 2)\n",
    "    plt.plot(x, loss, 'b', label='Training loss')\n",
    "    plt.plot(x, val_loss, 'r', label='Validation loss')\n",
    "    plt.title('Training and validation loss')\n",
    "    plt.legend()\n",
    "plot_history(history)\n",
    "\n",
    "history.history.keys()"
   ]
  },
  {
   "cell_type": "markdown",
   "metadata": {},
   "source": [
    "# BNN"
   ]
  },
  {
   "cell_type": "code",
   "execution_count": 54,
   "metadata": {},
   "outputs": [],
   "source": [
    "import numpy as np\n",
    "import tensorflow as tf\n",
    "import tensorflow_probability as tfp\n",
    "from tensorflow import keras\n",
    "from typing import *\n",
    "# from sentence_transformers import SentenceTransformer"
   ]
  },
  {
   "cell_type": "markdown",
   "metadata": {},
   "source": [
    "Prior and posterior likelihoods modeled by a zero-mean, unit-variance Gaussian normal distribution and multivariate Gaussian distribution with learnable mean and variances, respectively."
   ]
  },
  {
   "cell_type": "code",
   "execution_count": 55,
   "metadata": {},
   "outputs": [],
   "source": [
    "# zero mean, unit variance multivariate normal\n",
    "def prior(kernel_size, bias_size, dtype=None):\n",
    "        n = kernel_size + bias_size\n",
    "        prior_model = keras.Sequential(\n",
    "            [\n",
    "                tfp.layers.DistributionLambda(\n",
    "                    lambda t: tfp.distributions.MultivariateNormalDiag(\n",
    "                        loc=tf.zeros(n), scale_diag=tf.ones(n)\n",
    "                    )\n",
    "                )\n",
    "            ]\n",
    "        )\n",
    "        return prior_model\n",
    "\n",
    "\n",
    "# variational multivariate normal (learnable means and variances)\n",
    "def posterior(kernel_size, bias_size, dtype=None):\n",
    "    n = kernel_size + bias_size\n",
    "    posterior_model = keras.Sequential(\n",
    "        [\n",
    "            tfp.layers.VariableLayer(\n",
    "                tfp.layers.MultivariateNormalTriL.params_size(n),\n",
    "                dtype=dtype\n",
    "            ),\n",
    "            tfp.layers.MultivariateNormalTriL(n)\n",
    "        ]\n",
    "    )\n",
    "    return posterior_model"
   ]
  },
  {
   "cell_type": "markdown",
   "metadata": {},
   "source": [
    "Create and compile model. The code below creates a hybrid BNN with 2 8-unit deterministic layers and a 2-unit probabilistic layer. The output is a normal distribution based on the parameters learned in the posterior functions/distribution."
   ]
  },
  {
   "cell_type": "code",
   "execution_count": 56,
   "metadata": {},
   "outputs": [],
   "source": [
    "inputs = keras.Input(\n",
    "    shape=(maxlen,), dtype=tf.float64\n",
    ")\n",
    "\n",
    "features = keras.layers.BatchNormalization()(inputs)\n",
    "features = keras.layers.Dense(8, activation='sigmoid')(features)\n",
    "features = keras.layers.Dense(8, activation='sigmoid')(features)\n",
    "\n",
    "distribution_params = tfp.layers.DenseVariational(\n",
    "    units=2,\n",
    "    make_prior_fn=prior,\n",
    "    make_posterior_fn=posterior,\n",
    "    kl_weight=1/TRAIN_SIZE\n",
    ")(features)\n",
    "\n",
    "outputs = tfp.layers.IndependentNormal(1)(distribution_params)\n",
    "\n",
    "model = keras.Model(inputs=inputs, outputs=outputs)\n",
    "model.compile(\n",
    "    optimizer=keras.optimizers.RMSprop(learning_rate=0.001),\n",
    "    loss=keras.losses.CategoricalCrossentropy(),\n",
    "    metrics=[keras.metrics.CategoricalAccuracy()]\n",
    ")"
   ]
  },
  {
   "cell_type": "markdown",
   "metadata": {},
   "source": [
    "Train and evaluate the model on the training and testing data."
   ]
  },
  {
   "cell_type": "code",
   "execution_count": 57,
   "metadata": {},
   "outputs": [
    {
     "name": "stdout",
     "output_type": "stream",
     "text": [
      "Epoch 1/10\n",
      "79/79 [==============================] - 2s 10ms/step - loss: 7.0249e-04 - categorical_accuracy: 1.0000 - val_loss: 6.4733e-04 - val_categorical_accuracy: 1.0000\n",
      "Epoch 2/10\n",
      "79/79 [==============================] - 0s 3ms/step - loss: 6.2626e-04 - categorical_accuracy: 1.0000 - val_loss: 5.0711e-04 - val_categorical_accuracy: 1.0000\n",
      "Epoch 3/10\n",
      "79/79 [==============================] - 0s 3ms/step - loss: 3.9517e-04 - categorical_accuracy: 1.0000 - val_loss: 4.9082e-04 - val_categorical_accuracy: 1.0000\n",
      "Epoch 4/10\n",
      "79/79 [==============================] - 0s 3ms/step - loss: 4.0349e-04 - categorical_accuracy: 1.0000 - val_loss: 3.9199e-04 - val_categorical_accuracy: 1.0000\n",
      "Epoch 5/10\n",
      "79/79 [==============================] - 0s 4ms/step - loss: 3.1676e-04 - categorical_accuracy: 1.0000 - val_loss: 3.2015e-04 - val_categorical_accuracy: 1.0000\n",
      "Epoch 6/10\n",
      "79/79 [==============================] - 0s 4ms/step - loss: 3.4796e-04 - categorical_accuracy: 1.0000 - val_loss: 2.5098e-04 - val_categorical_accuracy: 1.0000\n",
      "Epoch 7/10\n",
      "79/79 [==============================] - 0s 3ms/step - loss: 1.9103e-04 - categorical_accuracy: 1.0000 - val_loss: 2.0605e-04 - val_categorical_accuracy: 1.0000\n",
      "Epoch 8/10\n",
      "79/79 [==============================] - 0s 3ms/step - loss: 2.3419e-04 - categorical_accuracy: 1.0000 - val_loss: 2.2197e-04 - val_categorical_accuracy: 1.0000\n",
      "Epoch 9/10\n",
      "79/79 [==============================] - 0s 3ms/step - loss: 1.6179e-04 - categorical_accuracy: 1.0000 - val_loss: 1.5948e-04 - val_categorical_accuracy: 1.0000\n",
      "Epoch 10/10\n",
      "79/79 [==============================] - 0s 3ms/step - loss: 9.0958e-05 - categorical_accuracy: 1.0000 - val_loss: -9.8563e-06 - val_categorical_accuracy: 1.0000\n"
     ]
    },
    {
     "data": {
      "text/plain": [
       "<keras.callbacks.History at 0x7f3e20dafa00>"
      ]
     },
     "execution_count": 57,
     "metadata": {},
     "output_type": "execute_result"
    }
   ],
   "source": [
    "model.fit(\n",
    "    X_tr,\n",
    "    y_tr,\n",
    "    epochs=EPOCHS,\n",
    "    verbose=1,\n",
    "    validation_data=tuple([X_ts, y_ts])\n",
    ")"
   ]
  },
  {
   "cell_type": "code",
   "execution_count": 58,
   "metadata": {},
   "outputs": [
    {
     "name": "stdout",
     "output_type": "stream",
     "text": [
      "79/79 [==============================] - 0s 2ms/step - loss: 7.4237e-05 - categorical_accuracy: 1.0000\n",
      "Training accuracy: 1.0\n",
      "79/79 [==============================] - 0s 2ms/step - loss: 8.2923e-05 - categorical_accuracy: 1.0000\n",
      "Testing accuracy: 1.0\n"
     ]
    }
   ],
   "source": [
    "clear_session()\n",
    "\n",
    "loss, accuracy = model.evaluate(X_tr, y_tr)\n",
    "print(f'Training accuracy: {accuracy}')\n",
    "\n",
    "loss, accuracy = model.evaluate(X_ts, y_ts)\n",
    "print(f'Testing accuracy: {accuracy}')"
   ]
  },
  {
   "cell_type": "code",
   "execution_count": 59,
   "metadata": {},
   "outputs": [
    {
     "data": {
      "text/html": [
       "<div>\n",
       "<style scoped>\n",
       "    .dataframe tbody tr th:only-of-type {\n",
       "        vertical-align: middle;\n",
       "    }\n",
       "\n",
       "    .dataframe tbody tr th {\n",
       "        vertical-align: top;\n",
       "    }\n",
       "\n",
       "    .dataframe thead th {\n",
       "        text-align: right;\n",
       "    }\n",
       "</style>\n",
       "<table border=\"1\" class=\"dataframe\">\n",
       "  <thead>\n",
       "    <tr style=\"text-align: right;\">\n",
       "      <th></th>\n",
       "      <th>Mean</th>\n",
       "      <th>Standard Deviation</th>\n",
       "      <th>Label</th>\n",
       "    </tr>\n",
       "  </thead>\n",
       "  <tbody>\n",
       "    <tr>\n",
       "      <th>0</th>\n",
       "      <td>-0.050963</td>\n",
       "      <td>1.989683</td>\n",
       "      <td>1</td>\n",
       "    </tr>\n",
       "    <tr>\n",
       "      <th>1</th>\n",
       "      <td>0.038671</td>\n",
       "      <td>1.768465</td>\n",
       "      <td>0</td>\n",
       "    </tr>\n",
       "    <tr>\n",
       "      <th>2</th>\n",
       "      <td>-0.001949</td>\n",
       "      <td>2.034737</td>\n",
       "      <td>0</td>\n",
       "    </tr>\n",
       "    <tr>\n",
       "      <th>3</th>\n",
       "      <td>0.772911</td>\n",
       "      <td>2.157537</td>\n",
       "      <td>1</td>\n",
       "    </tr>\n",
       "    <tr>\n",
       "      <th>4</th>\n",
       "      <td>0.397834</td>\n",
       "      <td>2.087585</td>\n",
       "      <td>0</td>\n",
       "    </tr>\n",
       "  </tbody>\n",
       "</table>\n",
       "</div>"
      ],
      "text/plain": [
       "       Mean  Standard Deviation  Label\n",
       "0 -0.050963            1.989683      1\n",
       "1  0.038671            1.768465      0\n",
       "2 -0.001949            2.034737      0\n",
       "3  0.772911            2.157537      1\n",
       "4  0.397834            2.087585      0"
      ]
     },
     "execution_count": 59,
     "metadata": {},
     "output_type": "execute_result"
    }
   ],
   "source": [
    "PREDICTION_ITERATIONS = 100\n",
    "\n",
    "results = {\n",
    "    'Mean': [],\n",
    "    'Standard Deviation': [],\n",
    "    'Label': [],\n",
    "}\n",
    "\n",
    "# predict on test samples\n",
    "for i, sample in enumerate(X_ts[0:50, :]):\n",
    "    sample = sample.reshape(1, sample.shape[0])\n",
    "    predictions = []\n",
    "\n",
    "    for _ in range(PREDICTION_ITERATIONS):\n",
    "        predictions.append(model.predict(sample))\n",
    "\n",
    "    predictions = np.concatenate(predictions, axis=1)\n",
    "\n",
    "    results['Mean'].append(np.average(predictions, axis=1)[0])\n",
    "    results['Standard Deviation'].append(np.std(predictions, axis=1)[0])\n",
    "    results['Label'].append(y_ts.array[i])\n",
    "\n",
    "results = pd.DataFrame(data=results)\n",
    "results.head()"
   ]
  }
 ],
 "metadata": {
  "interpreter": {
   "hash": "0250550d6d548e4e5a6cdc83ec66018a6064bd14f2654c3f43a648b49f3a281d"
  },
  "kernelspec": {
   "display_name": "Python 3 (ipykernel)",
   "language": "python",
   "name": "python3"
  },
  "language_info": {
   "codemirror_mode": {
    "name": "ipython",
    "version": 3
   },
   "file_extension": ".py",
   "mimetype": "text/x-python",
   "name": "python",
   "nbconvert_exporter": "python",
   "pygments_lexer": "ipython3",
   "version": "3.8.10"
  }
 },
 "nbformat": 4,
 "nbformat_minor": 2
}
