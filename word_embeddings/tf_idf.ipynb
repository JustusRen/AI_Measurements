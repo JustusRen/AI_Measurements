{
 "cells": [
  {
   "cell_type": "code",
   "execution_count": null,
   "metadata": {},
   "outputs": [],
   "source": [
    "%pip install sklearn numpy"
   ]
  },
  {
   "cell_type": "markdown",
   "metadata": {},
   "source": [
    "## TF-IDF Word Embedding\n",
    "The `TfidfVectorizer` combines the `CountVectorizer` and `TfidfTransformer` into one class for ease of use.\n",
    "\n",
    "### TF-IDF Vectorizer\n",
    "Basic `TfidfVectorizer` process:\n",
    "* Counts the number of occurrences of each word in each document (each string in the `corpus` list below)\n",
    "* Computes the document frequency from the number of documents in the corpus (4 in the case below)\n",
    "* `CountVectorizer` gives the term frequency for each term in the document\n",
    "* Inverse document frequency and term frequency-inverse document frequency can be computed from the above\n",
    "\n",
    "The `TfidfTransformer` gets the TF-IDF values from the word counts alone. It does not analyze the corpus."
   ]
  },
  {
   "cell_type": "code",
   "execution_count": null,
   "metadata": {},
   "outputs": [],
   "source": [
    "from sklearn.feature_extraction.text import TfidfVectorizer\n",
    "import numpy as np\n",
    "\n",
    "corpus = [\n",
    "    'this is the first document',\n",
    "    'this is the second document',\n",
    "    'and the third one',\n",
    "    'is this the first document?'\n",
    "]\n",
    "\n",
    "vectorizer = TfidfVectorizer()\n",
    "corpus_vectors = vectorizer.fit_transform(corpus)\n",
    "\n",
    "print(\"TF-IDF Vecotrs:\\n\", corpus_vectors.toarray())"
   ]
  },
  {
   "cell_type": "markdown",
   "metadata": {},
   "source": [
    "### TF-IDF Transformer\n",
    "This is a combination of the `CountVectorizer` and `TfidfTransformer` (shoud give the same results as the code above)"
   ]
  },
  {
   "cell_type": "code",
   "execution_count": null,
   "metadata": {},
   "outputs": [],
   "source": [
    "from sklearn.feature_extraction.text import TfidfTransformer, CountVectorizer\n",
    "\n",
    "corpus = [\n",
    "    'this is the first document',\n",
    "    'this is the second document',\n",
    "    'and the third one',\n",
    "    'is this the first document?'\n",
    "]\n",
    "\n",
    "count_vectorizer = CountVectorizer()\n",
    "count_vectors = vectorizer.fit_transform(corpus)\n",
    "\n",
    "print(\"Count Vectors:\\n\", count_vectors.toarray())"
   ]
  },
  {
   "cell_type": "code",
   "execution_count": null,
   "metadata": {},
   "outputs": [],
   "source": [
    "tfidf_transformer = TfidfTransformer()\n",
    "vectors = tfidf_transformer.fit_transform(count_vectors)\n",
    "\n",
    "print(\"TF-IDF Vectors:\\n\", vectors.toarray())"
   ]
  }
 ],
 "metadata": {
  "interpreter": {
   "hash": "0c8b9c2d3b4771d5dc8f4d302420c4e4e59f7d058e80e493ecad9bdf21e0a3b9"
  },
  "kernelspec": {
   "display_name": "Python 3.9.7 ('tf')",
   "language": "python",
   "name": "python3"
  },
  "language_info": {
   "codemirror_mode": {
    "name": "ipython",
    "version": 3
   },
   "file_extension": ".py",
   "mimetype": "text/x-python",
   "name": "python",
   "nbconvert_exporter": "python",
   "pygments_lexer": "ipython3",
   "version": "3.9.7"
  },
  "orig_nbformat": 4
 },
 "nbformat": 4,
 "nbformat_minor": 2
}
