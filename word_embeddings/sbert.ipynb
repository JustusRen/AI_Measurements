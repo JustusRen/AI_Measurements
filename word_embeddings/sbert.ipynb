{
 "cells": [
  {
   "cell_type": "code",
   "execution_count": null,
   "metadata": {},
   "outputs": [],
   "source": [
    "%pip install sentence-transformers"
   ]
  },
  {
   "cell_type": "markdown",
   "metadata": {},
   "source": [
    "## SBERT Sentence Embeddings\n",
    "This is a really basic use of the SBERT API to encode sentences, but it should be enough to decide whether we want to use this method or not."
   ]
  },
  {
   "cell_type": "code",
   "execution_count": null,
   "metadata": {},
   "outputs": [],
   "source": [
    "from sentence_transformers import SentenceTransformer\n",
    "\n",
    "corpus = [\n",
    "    'this is the first document',\n",
    "    'this is the second document',\n",
    "    'and the third one',\n",
    "    'is this the first document?'\n",
    "]\n",
    "\n",
    "model = SentenceTransformer('all-MiniLM-L6-v2')\n",
    "\n",
    "# this encodes every sentence in the list\n",
    "embeddings = model.encode(corpus, convert_to_numpy=True)\n",
    "\n",
    "# only printing one encoding since they are so large\n",
    "print(\n",
    "    f\"Sentence: {corpus[0]}\\n\"\n",
    "    f\"Embedding shape: {embeddings[0].shape}\\n\"\n",
    "    f\"Embedding:\\n{embeddings[0]}\"\n",
    ")"
   ]
  }
 ],
 "metadata": {
  "interpreter": {
   "hash": "0c8b9c2d3b4771d5dc8f4d302420c4e4e59f7d058e80e493ecad9bdf21e0a3b9"
  },
  "kernelspec": {
   "display_name": "Python 3.9.7 ('tf')",
   "language": "python",
   "name": "python3"
  },
  "language_info": {
   "codemirror_mode": {
    "name": "ipython",
    "version": 3
   },
   "file_extension": ".py",
   "mimetype": "text/x-python",
   "name": "python",
   "nbconvert_exporter": "python",
   "pygments_lexer": "ipython3",
   "version": "3.9.7"
  },
  "orig_nbformat": 4
 },
 "nbformat": 4,
 "nbformat_minor": 2
}
