{
 "cells": [
  {
   "cell_type": "markdown",
   "metadata": {},
   "source": [
    "# Artificial Neural Network"
   ]
  },
  {
   "cell_type": "code",
   "execution_count": 1,
   "metadata": {},
   "outputs": [
    {
     "name": "stderr",
     "output_type": "stream",
     "text": [
      "2022-04-28 19:10:32.482113: W tensorflow/stream_executor/platform/default/dso_loader.cc:64] Could not load dynamic library 'libcudart.so.11.0'; dlerror: libcudart.so.11.0: cannot open shared object file: No such file or directory; LD_LIBRARY_PATH: /opt/ros/noetic/lib\n",
      "2022-04-28 19:10:32.482138: I tensorflow/stream_executor/cuda/cudart_stub.cc:29] Ignore above cudart dlerror if you do not have a GPU set up on your machine.\n"
     ]
    }
   ],
   "source": [
    "import pandas as pd\n",
    "import os\n",
    "from sklearn.feature_extraction.text import TfidfVectorizer, CountVectorizer\n",
    "from sklearn.model_selection import train_test_split\n",
    "from common import *\n",
    "import tarfile\n",
    "import glob\n",
    "import tensorflow as tf\n",
    "from keras.backend import clear_session"
   ]
  },
  {
   "cell_type": "code",
   "execution_count": 2,
   "metadata": {},
   "outputs": [
    {
     "name": "stdout",
     "output_type": "stream",
     "text": [
      "Size of dataset: 100000\n"
     ]
    },
    {
     "data": {
      "text/html": [
       "<div>\n",
       "<style scoped>\n",
       "    .dataframe tbody tr th:only-of-type {\n",
       "        vertical-align: middle;\n",
       "    }\n",
       "\n",
       "    .dataframe tbody tr th {\n",
       "        vertical-align: top;\n",
       "    }\n",
       "\n",
       "    .dataframe thead th {\n",
       "        text-align: right;\n",
       "    }\n",
       "</style>\n",
       "<table border=\"1\" class=\"dataframe\">\n",
       "  <thead>\n",
       "    <tr style=\"text-align: right;\">\n",
       "      <th></th>\n",
       "      <th>text</th>\n",
       "      <th>label</th>\n",
       "    </tr>\n",
       "  </thead>\n",
       "  <tbody>\n",
       "    <tr>\n",
       "      <th>0</th>\n",
       "      <td>Tromeo and Juliet is perhaps the best Shakespe...</td>\n",
       "      <td>1</td>\n",
       "    </tr>\n",
       "    <tr>\n",
       "      <th>1</th>\n",
       "      <td>The book \"The Railway Children\" is a children'...</td>\n",
       "      <td>1</td>\n",
       "    </tr>\n",
       "    <tr>\n",
       "      <th>2</th>\n",
       "      <td>If you're into alternate realities, contemplat...</td>\n",
       "      <td>1</td>\n",
       "    </tr>\n",
       "    <tr>\n",
       "      <th>3</th>\n",
       "      <td>If not the best movie ever made, \"Babette's Fe...</td>\n",
       "      <td>1</td>\n",
       "    </tr>\n",
       "    <tr>\n",
       "      <th>4</th>\n",
       "      <td>SPOILERS BELOW&lt;br /&gt;&lt;br /&gt;`A Dog's Life' was m...</td>\n",
       "      <td>1</td>\n",
       "    </tr>\n",
       "  </tbody>\n",
       "</table>\n",
       "</div>"
      ],
      "text/plain": [
       "                                                text  label\n",
       "0  Tromeo and Juliet is perhaps the best Shakespe...      1\n",
       "1  The book \"The Railway Children\" is a children'...      1\n",
       "2  If you're into alternate realities, contemplat...      1\n",
       "3  If not the best movie ever made, \"Babette's Fe...      1\n",
       "4  SPOILERS BELOW<br /><br />`A Dog's Life' was m...      1"
      ]
     },
     "execution_count": 2,
     "metadata": {},
     "output_type": "execute_result"
    }
   ],
   "source": [
    "if not os.path.exists('aclImdb'):\n",
    "    if not os.path.exists('aclImdb_v1.tar.gz'):\n",
    "        files = download_data()\n",
    "    else:\n",
    "        files = ['aclImdb_v1.tar.gz']\n",
    "    \n",
    "    tarfile.open(files[0]).extractall()\n",
    "\n",
    "paths = glob.glob('aclImdb/**/pos/*.txt', recursive=True)\n",
    "pos_frame = get_data(paths, 1)\n",
    "paths = glob.glob('aclImdb/**/neg/*.txt', recursive=True)\n",
    "neg_frame = get_data(paths, 0)\n",
    "\n",
    "df = pd.concat([pos_frame, neg_frame])\n",
    "print(f'Size of dataset: {df.size}')\n",
    "df.head()"
   ]
  },
  {
   "cell_type": "code",
   "execution_count": 3,
   "metadata": {},
   "outputs": [
    {
     "data": {
      "text/html": [
       "<div>\n",
       "<style scoped>\n",
       "    .dataframe tbody tr th:only-of-type {\n",
       "        vertical-align: middle;\n",
       "    }\n",
       "\n",
       "    .dataframe tbody tr th {\n",
       "        vertical-align: top;\n",
       "    }\n",
       "\n",
       "    .dataframe thead th {\n",
       "        text-align: right;\n",
       "    }\n",
       "</style>\n",
       "<table border=\"1\" class=\"dataframe\">\n",
       "  <thead>\n",
       "    <tr style=\"text-align: right;\">\n",
       "      <th></th>\n",
       "      <th>text</th>\n",
       "      <th>label</th>\n",
       "    </tr>\n",
       "  </thead>\n",
       "  <tbody>\n",
       "    <tr>\n",
       "      <th>1247</th>\n",
       "      <td>As a kid, this movie scared me green. As an ad...</td>\n",
       "      <td>0</td>\n",
       "    </tr>\n",
       "    <tr>\n",
       "      <th>10067</th>\n",
       "      <td>It is a movie which sheds the light on the beg...</td>\n",
       "      <td>0</td>\n",
       "    </tr>\n",
       "    <tr>\n",
       "      <th>9590</th>\n",
       "      <td>Talk about being boring!&lt;br /&gt;&lt;br /&gt;I got this...</td>\n",
       "      <td>0</td>\n",
       "    </tr>\n",
       "    <tr>\n",
       "      <th>16668</th>\n",
       "      <td>One of Disney's best films that I can enjoy wa...</td>\n",
       "      <td>1</td>\n",
       "    </tr>\n",
       "    <tr>\n",
       "      <th>12196</th>\n",
       "      <td>Being a bit of a connoisseur of garbage, I hav...</td>\n",
       "      <td>1</td>\n",
       "    </tr>\n",
       "  </tbody>\n",
       "</table>\n",
       "</div>"
      ],
      "text/plain": [
       "                                                    text  label\n",
       "1247   As a kid, this movie scared me green. As an ad...      0\n",
       "10067  It is a movie which sheds the light on the beg...      0\n",
       "9590   Talk about being boring!<br /><br />I got this...      0\n",
       "16668  One of Disney's best films that I can enjoy wa...      1\n",
       "12196  Being a bit of a connoisseur of garbage, I hav...      1"
      ]
     },
     "execution_count": 3,
     "metadata": {},
     "output_type": "execute_result"
    }
   ],
   "source": [
    "df = df.sample(n=NUM_SAMPLES, random_state=RANDOM_SEED)\n",
    "df.head()"
   ]
  },
  {
   "cell_type": "code",
   "execution_count": 4,
   "metadata": {},
   "outputs": [
    {
     "name": "stdout",
     "output_type": "stream",
     "text": [
      "Train shape: (2500, 51072)\n",
      "Test shape: (2500, 51072)\n"
     ]
    }
   ],
   "source": [
    "countVectorizer = CountVectorizer()\n",
    "embeddings = preprocess_data(df['text'], countVectorizer)\n",
    "\n",
    "X_tr, X_ts, y_tr, y_ts= train_test_split(embeddings, df['label'], test_size=TEST_SIZE, random_state=RANDOM_SEED)\n",
    "\n",
    "X_tr = X_tr.toarray()\n",
    "X_ts = X_ts.toarray()\n",
    "\n",
    "feature_size = X_tr.shape[1]\n",
    "\n",
    "print(f'Train shape: {X_tr.shape}')\n",
    "print(f'Test shape: {X_ts.shape}')"
   ]
  },
  {
   "cell_type": "code",
   "execution_count": 5,
   "metadata": {},
   "outputs": [
    {
     "name": "stdout",
     "output_type": "stream",
     "text": [
      "Model: \"sequential\"\n",
      "_________________________________________________________________\n",
      " Layer (type)                Output Shape              Param #   \n",
      "=================================================================\n",
      " dense (Dense)               (None, 10)                510730    \n",
      "                                                                 \n",
      " dense_1 (Dense)             (None, 1)                 11        \n",
      "                                                                 \n",
      "=================================================================\n",
      "Total params: 510,741\n",
      "Trainable params: 510,741\n",
      "Non-trainable params: 0\n",
      "_________________________________________________________________\n"
     ]
    },
    {
     "name": "stderr",
     "output_type": "stream",
     "text": [
      "2022-04-28 19:10:35.928676: W tensorflow/stream_executor/platform/default/dso_loader.cc:64] Could not load dynamic library 'libcuda.so.1'; dlerror: libcuda.so.1: cannot open shared object file: No such file or directory; LD_LIBRARY_PATH: /opt/ros/noetic/lib\n",
      "2022-04-28 19:10:35.928809: W tensorflow/stream_executor/cuda/cuda_driver.cc:269] failed call to cuInit: UNKNOWN ERROR (303)\n",
      "2022-04-28 19:10:35.928895: I tensorflow/stream_executor/cuda/cuda_diagnostics.cc:156] kernel driver does not appear to be running on this host (justus): /proc/driver/nvidia/version does not exist\n",
      "2022-04-28 19:10:35.929988: I tensorflow/core/platform/cpu_feature_guard.cc:151] This TensorFlow binary is optimized with oneAPI Deep Neural Network Library (oneDNN) to use the following CPU instructions in performance-critical operations:  AVX2 FMA\n",
      "To enable them in other operations, rebuild TensorFlow with the appropriate compiler flags.\n"
     ]
    }
   ],
   "source": [
    "#first basic ann\n",
    "from keras.models import Sequential\n",
    "from keras import layers\n",
    "\n",
    "input_dim = X_tr.shape[1]  \n",
    "\n",
    "model = Sequential()\n",
    "model.add(layers.Dense(10, input_dim=input_dim, activation='relu'))\n",
    "model.add(layers.Dense(1, activation='sigmoid'))\n",
    "model.compile(loss='binary_crossentropy',\n",
    "              optimizer='adam',\n",
    "              metrics=['accuracy'])\n",
    "model.summary()"
   ]
  },
  {
   "cell_type": "code",
   "execution_count": 6,
   "metadata": {},
   "outputs": [
    {
     "name": "stderr",
     "output_type": "stream",
     "text": [
      "2022-04-28 19:10:36.069402: W tensorflow/core/framework/cpu_allocator_impl.cc:82] Allocation of 1021440000 exceeds 10% of free system memory.\n"
     ]
    },
    {
     "name": "stdout",
     "output_type": "stream",
     "text": [
      "Epoch 1/10\n",
      "19/20 [===========================>..] - ETA: 0s - loss: 0.6378 - accuracy: 0.6817"
     ]
    },
    {
     "name": "stderr",
     "output_type": "stream",
     "text": [
      "2022-04-28 19:10:37.384196: W tensorflow/core/framework/cpu_allocator_impl.cc:82] Allocation of 1021440000 exceeds 10% of free system memory.\n"
     ]
    },
    {
     "name": "stdout",
     "output_type": "stream",
     "text": [
      "20/20 [==============================] - 2s 65ms/step - loss: 0.6351 - accuracy: 0.6856 - val_loss: 0.5497 - val_accuracy: 0.8304\n",
      "Epoch 2/10\n",
      "20/20 [==============================] - 1s 37ms/step - loss: 0.4074 - accuracy: 0.9240 - val_loss: 0.4505 - val_accuracy: 0.8536\n",
      "Epoch 3/10\n",
      "20/20 [==============================] - 1s 34ms/step - loss: 0.2640 - accuracy: 0.9708 - val_loss: 0.3985 - val_accuracy: 0.8644\n",
      "Epoch 4/10\n",
      "20/20 [==============================] - 1s 37ms/step - loss: 0.1813 - accuracy: 0.9872 - val_loss: 0.3726 - val_accuracy: 0.8660\n",
      "Epoch 5/10\n",
      "20/20 [==============================] - 1s 37ms/step - loss: 0.1302 - accuracy: 0.9936 - val_loss: 0.3563 - val_accuracy: 0.8672\n",
      "Epoch 6/10\n",
      "20/20 [==============================] - 1s 38ms/step - loss: 0.0985 - accuracy: 0.9976 - val_loss: 0.3431 - val_accuracy: 0.8708\n",
      "Epoch 7/10\n",
      "20/20 [==============================] - 1s 34ms/step - loss: 0.0755 - accuracy: 0.9988 - val_loss: 0.3350 - val_accuracy: 0.8680\n",
      "Epoch 8/10\n",
      "20/20 [==============================] - 1s 36ms/step - loss: 0.0593 - accuracy: 0.9992 - val_loss: 0.3319 - val_accuracy: 0.8660\n",
      "Epoch 9/10\n",
      "20/20 [==============================] - 1s 36ms/step - loss: 0.0479 - accuracy: 1.0000 - val_loss: 0.3282 - val_accuracy: 0.8688\n",
      "Epoch 10/10\n",
      "20/20 [==============================] - 1s 32ms/step - loss: 0.0392 - accuracy: 1.0000 - val_loss: 0.3272 - val_accuracy: 0.8656\n"
     ]
    }
   ],
   "source": [
    "history = model.fit(\n",
    "    X_tr, y_tr,\n",
    "    epochs=EPOCHS,\n",
    "    verbose=True,\n",
    "    validation_data=(X_ts, y_ts),\n",
    "    batch_size=128\n",
    ")"
   ]
  },
  {
   "cell_type": "code",
   "execution_count": 7,
   "metadata": {},
   "outputs": [
    {
     "data": {
      "text/plain": [
       "dict_keys(['loss', 'accuracy', 'val_loss', 'val_accuracy'])"
      ]
     },
     "execution_count": 7,
     "metadata": {},
     "output_type": "execute_result"
    },
    {
     "data": {
      "image/png": "[encoded data removed]",
      "text/plain": [
       "<Figure size 864x360 with 2 Axes>"
      ]
     },
     "metadata": {},
     "output_type": "display_data"
    }
   ],
   "source": [
    "import matplotlib.pyplot as plt\n",
    "plt.style.use('ggplot')\n",
    "\n",
    "def plot_history(history):\n",
    "    acc = history.history['accuracy']\n",
    "    val_acc = history.history['val_accuracy']\n",
    "    loss = history.history['loss']\n",
    "    val_loss = history.history['val_loss']\n",
    "    x = range(1, len(acc) + 1)\n",
    "\n",
    "    plt.figure(figsize=(12, 5))\n",
    "    plt.subplot(1, 2, 1)\n",
    "    plt.plot(x, acc, 'b', label='Training acc')\n",
    "    plt.plot(x, val_acc, 'r', label='Validation acc')\n",
    "    plt.title('Training and validation accuracy')\n",
    "    plt.legend()\n",
    "    plt.subplot(1, 2, 2)\n",
    "    plt.plot(x, loss, 'b', label='Training loss')\n",
    "    plt.plot(x, val_loss, 'r', label='Validation loss')\n",
    "    plt.title('Training and validation loss')\n",
    "    plt.legend()\n",
    "plot_history(history)\n",
    "\n",
    "history.history.keys()"
   ]
  },
  {
   "cell_type": "code",
   "execution_count": 8,
   "metadata": {},
   "outputs": [
    {
     "name": "stderr",
     "output_type": "stream",
     "text": [
      "2022-04-28 19:10:45.524082: W tensorflow/core/framework/cpu_allocator_impl.cc:82] Allocation of 1021440000 exceeds 10% of free system memory.\n"
     ]
    },
    {
     "name": "stdout",
     "output_type": "stream",
     "text": [
      "Training Accuracy: 1.0000\n"
     ]
    },
    {
     "name": "stderr",
     "output_type": "stream",
     "text": [
      "2022-04-28 19:10:46.247095: W tensorflow/core/framework/cpu_allocator_impl.cc:82] Allocation of 1021440000 exceeds 10% of free system memory.\n"
     ]
    },
    {
     "name": "stdout",
     "output_type": "stream",
     "text": [
      "Testing Accuracy:  0.8656\n"
     ]
    }
   ],
   "source": [
    "loss, accuracy = model.evaluate(X_tr, y_tr, verbose=False)\n",
    "print(\"Training Accuracy: {:.4f}\".format(accuracy))\n",
    "loss, accuracy = model.evaluate(X_ts, y_ts, verbose=False)\n",
    "print(\"Testing Accuracy:  {:.4f}\".format(accuracy))"
   ]
  },
  {
   "cell_type": "markdown",
   "metadata": {},
   "source": [
    "# CNN"
   ]
  },
  {
   "cell_type": "code",
   "execution_count": 9,
   "metadata": {},
   "outputs": [
    {
     "name": "stdout",
     "output_type": "stream",
     "text": [
      "5677     I watched part of the first part of this movie...\n",
      "8687     i have had this movie, in the back of my head ...\n",
      "1221     I was a huge fan of the original Robocop.<br /...\n",
      "8034     Rita Hayworth as Rusty Parker is the COVER GIR...\n",
      "20403    \"Everything a great documentary could be\"?? Ye...\n",
      "                               ...                        \n",
      "20659    This show had pretty good stories, but bad dia...\n",
      "5543     A great combination: - Chabat's humor - Uderzo...\n",
      "23070    honestly, where can I begin! This was a low bu...\n",
      "1304     ***Possible spoilers***<br /><br />I've read u...\n",
      "8938     Relentless like one of those loud action movie...\n",
      "Name: text, Length: 2500, dtype: object\n"
     ]
    }
   ],
   "source": [
    "sentences_train, sentences_test, y_tr, y_ts= train_test_split(df['text'], df['label'], test_size=TEST_SIZE, random_state=RANDOM_SEED)\n",
    "print(sentences_train)"
   ]
  },
  {
   "cell_type": "code",
   "execution_count": 10,
   "metadata": {},
   "outputs": [],
   "source": [
    "from keras.preprocessing.text import Tokenizer\n",
    "\n",
    "tokenizer = Tokenizer(num_words=5000)\n",
    "tokenizer.fit_on_texts(sentences_train)\n",
    "\n",
    "X_tr = tokenizer.texts_to_sequences(sentences_train)\n",
    "X_ts = tokenizer.texts_to_sequences(sentences_test)\n",
    "\n",
    "vocab_size = len(tokenizer.word_index) + 1  "
   ]
  },
  {
   "cell_type": "code",
   "execution_count": 11,
   "metadata": {},
   "outputs": [
    {
     "name": "stdout",
     "output_type": "stream",
     "text": [
      "[  10  287  187    4    1   83  187    4   11   16    2 2923  117 1498\n",
      "    4   82  586  294  151 4167   18   10   90  101   11   16    6   66\n",
      "  263  141    1  979  103    2  125 1236  116  794    2    6  266  221\n",
      "   18   47   23   79  166    8    9   14   70    2   48 3233  166    1\n",
      " 1499    2  492    4    9  636   68  124    2   17   84   11   16   56\n",
      "   22   25   52 3883   43 2924    5  115    0    0    0    0    0    0\n",
      "    0    0    0    0    0    0    0    0    0    0    0    0    0    0\n",
      "    0    0]\n"
     ]
    }
   ],
   "source": [
    "from keras.preprocessing.sequence import pad_sequences\n",
    "\n",
    "maxlen = 100\n",
    "\n",
    "X_tr = pad_sequences(X_tr, padding='post', maxlen=maxlen)\n",
    "X_ts = pad_sequences(X_ts, padding='post', maxlen=maxlen)\n",
    "\n",
    "print(X_tr[0, :])\n"
   ]
  },
  {
   "cell_type": "code",
   "execution_count": 12,
   "metadata": {},
   "outputs": [
    {
     "name": "stdout",
     "output_type": "stream",
     "text": [
      "Model: \"sequential_1\"\n",
      "_________________________________________________________________\n",
      " Layer (type)                Output Shape              Param #   \n",
      "=================================================================\n",
      " embedding (Embedding)       (None, 100, 50)           1535050   \n",
      "                                                                 \n",
      " conv1d (Conv1D)             (None, 96, 128)           32128     \n",
      "                                                                 \n",
      " global_max_pooling1d (Globa  (None, 128)              0         \n",
      " lMaxPooling1D)                                                  \n",
      "                                                                 \n",
      " dense_2 (Dense)             (None, 10)                1290      \n",
      "                                                                 \n",
      " dense_3 (Dense)             (None, 1)                 11        \n",
      "                                                                 \n",
      "=================================================================\n",
      "Total params: 1,568,479\n",
      "Trainable params: 1,568,479\n",
      "Non-trainable params: 0\n",
      "_________________________________________________________________\n"
     ]
    }
   ],
   "source": [
    "from keras.layers import Embedding\n",
    "embedding_dim = 50\n",
    "\n",
    "model_cnn = Sequential()\n",
    "model_cnn.add(Embedding(input_dim=vocab_size, \n",
    "                           output_dim=embedding_dim, \n",
    "                           input_length=maxlen))\n",
    "model_cnn.add(layers.Conv1D(128, 5, activation='relu'))\n",
    "model_cnn.add(layers.GlobalMaxPool1D())\n",
    "model_cnn.add(layers.Dense(10, activation='relu'))\n",
    "model_cnn.add(layers.Dense(1, activation='sigmoid'))\n",
    "model_cnn.compile(optimizer='adam',\n",
    "              loss='binary_crossentropy',\n",
    "              metrics=['accuracy'])\n",
    "model_cnn.summary()"
   ]
  },
  {
   "cell_type": "code",
   "execution_count": 13,
   "metadata": {},
   "outputs": [
    {
     "name": "stdout",
     "output_type": "stream",
     "text": [
      "Epoch 1/10\n",
      "20/20 [==============================] - 1s 40ms/step - loss: 0.6922 - accuracy: 0.5148 - val_loss: 0.6892 - val_accuracy: 0.5452\n",
      "Epoch 2/10\n",
      "20/20 [==============================] - 1s 35ms/step - loss: 0.6751 - accuracy: 0.7392 - val_loss: 0.6833 - val_accuracy: 0.6568\n",
      "Epoch 3/10\n",
      "20/20 [==============================] - 1s 36ms/step - loss: 0.6487 - accuracy: 0.9364 - val_loss: 0.6609 - val_accuracy: 0.6960\n",
      "Epoch 4/10\n",
      "20/20 [==============================] - 1s 36ms/step - loss: 0.5941 - accuracy: 0.9024 - val_loss: 0.6078 - val_accuracy: 0.7508\n",
      "Epoch 5/10\n",
      "20/20 [==============================] - 1s 37ms/step - loss: 0.4978 - accuracy: 0.8828 - val_loss: 0.5309 - val_accuracy: 0.7708\n",
      "Epoch 6/10\n",
      "20/20 [==============================] - 1s 34ms/step - loss: 0.3657 - accuracy: 0.9088 - val_loss: 0.4559 - val_accuracy: 0.7996\n",
      "Epoch 7/10\n",
      "20/20 [==============================] - 1s 35ms/step - loss: 0.2332 - accuracy: 0.9452 - val_loss: 0.4155 - val_accuracy: 0.8120\n",
      "Epoch 8/10\n",
      "20/20 [==============================] - 1s 34ms/step - loss: 0.1330 - accuracy: 0.9800 - val_loss: 0.4108 - val_accuracy: 0.8088\n",
      "Epoch 9/10\n",
      "20/20 [==============================] - 1s 35ms/step - loss: 0.0690 - accuracy: 0.9964 - val_loss: 0.4225 - val_accuracy: 0.8100\n",
      "Epoch 10/10\n",
      "20/20 [==============================] - 1s 35ms/step - loss: 0.0348 - accuracy: 1.0000 - val_loss: 0.4419 - val_accuracy: 0.8076\n"
     ]
    }
   ],
   "source": [
    "history = model_cnn.fit(X_tr, y_tr, validation_data=(X_ts, y_ts), epochs=EPOCHS, batch_size=128, verbose=1)"
   ]
  },
  {
   "cell_type": "code",
   "execution_count": 14,
   "metadata": {},
   "outputs": [
    {
     "name": "stdout",
     "output_type": "stream",
     "text": [
      "Training Accuracy: 1.0000\n",
      "Testing Accuracy:  0.8076\n"
     ]
    }
   ],
   "source": [
    "loss, accuracy = model_cnn.evaluate(X_tr, y_tr, verbose=False)\n",
    "print(\"Training Accuracy: {:.4f}\".format(accuracy))\n",
    "loss, accuracy = model_cnn.evaluate(X_ts, y_ts, verbose=False)\n",
    "print(\"Testing Accuracy:  {:.4f}\".format(accuracy))"
   ]
  },
  {
   "cell_type": "code",
   "execution_count": 15,
   "metadata": {},
   "outputs": [
    {
     "data": {
      "text/plain": [
       "dict_keys(['loss', 'accuracy', 'val_loss', 'val_accuracy'])"
      ]
     },
     "execution_count": 15,
     "metadata": {},
     "output_type": "execute_result"
    },
    {
     "data": {
      "image/png": "[encoded data removed]",
      "text/plain": [
       "<Figure size 864x360 with 2 Axes>"
      ]
     },
     "metadata": {},
     "output_type": "display_data"
    }
   ],
   "source": [
    "plt.style.use('ggplot')\n",
    "\n",
    "def plot_history(history):\n",
    "    acc = history.history['accuracy']\n",
    "    val_acc = history.history['val_accuracy']\n",
    "    loss = history.history['loss']\n",
    "    val_loss = history.history['val_loss']\n",
    "    x = range(1, len(acc) + 1)\n",
    "\n",
    "    plt.figure(figsize=(12, 5))\n",
    "    plt.subplot(1, 2, 1)\n",
    "    plt.plot(x, acc, 'b', label='Training acc')\n",
    "    plt.plot(x, val_acc, 'r', label='Validation acc')\n",
    "    plt.title('Training and validation accuracy')\n",
    "    plt.legend()\n",
    "    plt.subplot(1, 2, 2)\n",
    "    plt.plot(x, loss, 'b', label='Training loss')\n",
    "    plt.plot(x, val_loss, 'r', label='Validation loss')\n",
    "    plt.title('Training and validation loss')\n",
    "    plt.legend()\n",
    "plot_history(history)\n",
    "\n",
    "history.history.keys()"
   ]
  },
  {
   "cell_type": "markdown",
   "metadata": {},
   "source": [
    "# BNN"
   ]
  },
  {
   "cell_type": "code",
   "execution_count": 16,
   "metadata": {},
   "outputs": [],
   "source": [
    "import numpy as np\n",
    "import tensorflow as tf\n",
    "import tensorflow_probability as tfp\n",
    "from tensorflow import keras\n",
    "from typing import *\n",
    "# from sentence_transformers import SentenceTransformer"
   ]
  },
  {
   "cell_type": "markdown",
   "metadata": {},
   "source": [
    "Prior and posterior likelihoods modeled by a zero-mean, unit-variance Gaussian normal distribution and multivariate Gaussian distribution with learnable mean and variances, respectively."
   ]
  },
  {
   "cell_type": "code",
   "execution_count": 17,
   "metadata": {},
   "outputs": [],
   "source": [
    "# zero mean, unit variance multivariate normal\n",
    "def prior(kernel_size, bias_size, dtype=None):\n",
    "        n = kernel_size + bias_size\n",
    "        prior_model = keras.Sequential(\n",
    "            [\n",
    "                tfp.layers.DistributionLambda(\n",
    "                    lambda t: tfp.distributions.MultivariateNormalDiag(\n",
    "                        loc=tf.zeros(n), scale_diag=tf.ones(n)\n",
    "                    )\n",
    "                )\n",
    "            ]\n",
    "        )\n",
    "        return prior_model\n",
    "\n",
    "\n",
    "# variational multivariate normal (learnable means and variances)\n",
    "def posterior(kernel_size, bias_size, dtype=None):\n",
    "    n = kernel_size + bias_size\n",
    "    posterior_model = keras.Sequential(\n",
    "        [\n",
    "            tfp.layers.VariableLayer(\n",
    "                tfp.layers.MultivariateNormalTriL.params_size(n),\n",
    "                dtype=dtype\n",
    "            ),\n",
    "            tfp.layers.MultivariateNormalTriL(n)\n",
    "        ]\n",
    "    )\n",
    "    return posterior_model"
   ]
  },
  {
   "cell_type": "markdown",
   "metadata": {},
   "source": [
    "Create and compile model. The code below creates a hybrid BNN with 2 8-unit deterministic layers and a 2-unit probabilistic layer. The output is a normal distribution based on the parameters learned in the posterior functions/distribution."
   ]
  },
  {
   "cell_type": "code",
   "execution_count": 18,
   "metadata": {},
   "outputs": [
    {
     "name": "stdout",
     "output_type": "stream",
     "text": [
      "WARNING:tensorflow:From /home/justus/MA-540-TEAM3/venv/lib/python3.8/site-packages/tensorflow_probability/python/distributions/distribution.py:342: calling MultivariateNormalDiag.__init__ (from tensorflow_probability.python.distributions.mvn_diag) with scale_identity_multiplier is deprecated and will be removed after 2020-01-01.\n",
      "Instructions for updating:\n",
      "`scale_identity_multiplier` is deprecated; please combine it into `scale_diag` directly instead.\n"
     ]
    },
    {
     "name": "stderr",
     "output_type": "stream",
     "text": [
      "2022-04-28 19:10:57.176140: W tensorflow/python/util/util.cc:368] Sets are not currently considered sequences, but this may change in the future, so consider avoiding using them.\n"
     ]
    }
   ],
   "source": [
    "inputs = keras.Input(\n",
    "    shape=(maxlen,), dtype=tf.float64\n",
    ")\n",
    "\n",
    "features = keras.layers.BatchNormalization()(inputs)\n",
    "features = keras.layers.Dense(8, activation='sigmoid')(features)\n",
    "features = keras.layers.Dense(8, activation='sigmoid')(features)\n",
    "\n",
    "distribution_params = tfp.layers.DenseVariational(\n",
    "    units=2,\n",
    "    make_prior_fn=prior,\n",
    "    make_posterior_fn=posterior,\n",
    "    kl_weight=1/TRAIN_SIZE\n",
    ")(features)\n",
    "\n",
    "outputs = tfp.layers.IndependentNormal(1)(distribution_params)\n",
    "\n",
    "model = keras.Model(inputs=inputs, outputs=outputs)\n",
    "model.compile(\n",
    "    optimizer=keras.optimizers.RMSprop(learning_rate=0.001),\n",
    "    loss=keras.losses.CategoricalCrossentropy(),\n",
    "    metrics=[keras.metrics.CategoricalAccuracy()]\n",
    ")"
   ]
  },
  {
   "cell_type": "markdown",
   "metadata": {},
   "source": [
    "Train and evaluate the model on the training and testing data."
   ]
  },
  {
   "cell_type": "code",
   "execution_count": 19,
   "metadata": {},
   "outputs": [
    {
     "name": "stdout",
     "output_type": "stream",
     "text": [
      "Epoch 1/10\n",
      "79/79 [==============================] - 2s 11ms/step - loss: 7.3462e-04 - categorical_accuracy: 1.0000 - val_loss: 7.0081e-04 - val_categorical_accuracy: 1.0000\n",
      "Epoch 2/10\n",
      "79/79 [==============================] - 0s 3ms/step - loss: 5.4037e-04 - categorical_accuracy: 1.0000 - val_loss: 4.8686e-04 - val_categorical_accuracy: 1.0000\n",
      "Epoch 3/10\n",
      "79/79 [==============================] - 0s 3ms/step - loss: 4.6898e-04 - categorical_accuracy: 1.0000 - val_loss: 4.1848e-04 - val_categorical_accuracy: 1.0000\n",
      "Epoch 4/10\n",
      "79/79 [==============================] - 0s 3ms/step - loss: 4.6038e-04 - categorical_accuracy: 1.0000 - val_loss: 3.2442e-04 - val_categorical_accuracy: 1.0000\n",
      "Epoch 5/10\n",
      "79/79 [==============================] - 0s 4ms/step - loss: 2.5173e-04 - categorical_accuracy: 1.0000 - val_loss: 2.2538e-04 - val_categorical_accuracy: 1.0000\n",
      "Epoch 6/10\n",
      "79/79 [==============================] - 0s 3ms/step - loss: 3.3130e-04 - categorical_accuracy: 1.0000 - val_loss: 2.7752e-04 - val_categorical_accuracy: 1.0000\n",
      "Epoch 7/10\n",
      "79/79 [==============================] - 0s 3ms/step - loss: 2.3691e-04 - categorical_accuracy: 1.0000 - val_loss: 2.0649e-04 - val_categorical_accuracy: 1.0000\n",
      "Epoch 8/10\n",
      "79/79 [==============================] - 0s 3ms/step - loss: 2.3015e-04 - categorical_accuracy: 1.0000 - val_loss: 1.5927e-04 - val_categorical_accuracy: 1.0000\n",
      "Epoch 9/10\n",
      "79/79 [==============================] - 0s 3ms/step - loss: 1.6805e-04 - categorical_accuracy: 1.0000 - val_loss: 1.2911e-04 - val_categorical_accuracy: 1.0000\n",
      "Epoch 10/10\n",
      "79/79 [==============================] - 0s 3ms/step - loss: 9.5520e-05 - categorical_accuracy: 1.0000 - val_loss: 8.2505e-05 - val_categorical_accuracy: 1.0000\n"
     ]
    },
    {
     "data": {
      "text/plain": [
       "<keras.callbacks.History at 0x7f6915909a30>"
      ]
     },
     "execution_count": 19,
     "metadata": {},
     "output_type": "execute_result"
    }
   ],
   "source": [
    "model.fit(\n",
    "    X_tr,\n",
    "    y_tr,\n",
    "    epochs=EPOCHS,\n",
    "    verbose=1,\n",
    "    validation_data=tuple([X_ts, y_ts])\n",
    ")"
   ]
  },
  {
   "cell_type": "code",
   "execution_count": 20,
   "metadata": {},
   "outputs": [
    {
     "name": "stdout",
     "output_type": "stream",
     "text": [
      "79/79 [==============================] - 0s 1ms/step - loss: 4.7219e-05 - categorical_accuracy: 1.0000\n",
      "Training accuracy: 1.0\n",
      "79/79 [==============================] - 0s 2ms/step - loss: 5.4917e-05 - categorical_accuracy: 1.0000\n",
      "Testing accuracy: 1.0\n"
     ]
    }
   ],
   "source": [
    "clear_session()\n",
    "\n",
    "loss, accuracy = model.evaluate(X_tr, y_tr)\n",
    "print(f'Training accuracy: {accuracy}')\n",
    "\n",
    "loss, accuracy = model.evaluate(X_ts, y_ts)\n",
    "print(f'Testing accuracy: {accuracy}')"
   ]
  },
  {
   "cell_type": "code",
   "execution_count": 21,
   "metadata": {},
   "outputs": [
    {
     "data": {
      "text/html": [
       "<div>\n",
       "<style scoped>\n",
       "    .dataframe tbody tr th:only-of-type {\n",
       "        vertical-align: middle;\n",
       "    }\n",
       "\n",
       "    .dataframe tbody tr th {\n",
       "        vertical-align: top;\n",
       "    }\n",
       "\n",
       "    .dataframe thead th {\n",
       "        text-align: right;\n",
       "    }\n",
       "</style>\n",
       "<table border=\"1\" class=\"dataframe\">\n",
       "  <thead>\n",
       "    <tr style=\"text-align: right;\">\n",
       "      <th></th>\n",
       "      <th>Mean</th>\n",
       "      <th>Standard Deviation</th>\n",
       "      <th>Label</th>\n",
       "    </tr>\n",
       "  </thead>\n",
       "  <tbody>\n",
       "    <tr>\n",
       "      <th>0</th>\n",
       "      <td>-0.339933</td>\n",
       "      <td>1.701185</td>\n",
       "      <td>1</td>\n",
       "    </tr>\n",
       "    <tr>\n",
       "      <th>1</th>\n",
       "      <td>0.095635</td>\n",
       "      <td>1.756603</td>\n",
       "      <td>0</td>\n",
       "    </tr>\n",
       "    <tr>\n",
       "      <th>2</th>\n",
       "      <td>0.013492</td>\n",
       "      <td>2.360736</td>\n",
       "      <td>0</td>\n",
       "    </tr>\n",
       "    <tr>\n",
       "      <th>3</th>\n",
       "      <td>0.012061</td>\n",
       "      <td>1.871571</td>\n",
       "      <td>1</td>\n",
       "    </tr>\n",
       "    <tr>\n",
       "      <th>4</th>\n",
       "      <td>-0.259026</td>\n",
       "      <td>1.747968</td>\n",
       "      <td>0</td>\n",
       "    </tr>\n",
       "  </tbody>\n",
       "</table>\n",
       "</div>"
      ],
      "text/plain": [
       "       Mean  Standard Deviation  Label\n",
       "0 -0.339933            1.701185      1\n",
       "1  0.095635            1.756603      0\n",
       "2  0.013492            2.360736      0\n",
       "3  0.012061            1.871571      1\n",
       "4 -0.259026            1.747968      0"
      ]
     },
     "execution_count": 21,
     "metadata": {},
     "output_type": "execute_result"
    }
   ],
   "source": [
    "PREDICTION_ITERATIONS = 100\n",
    "\n",
    "results = {\n",
    "    'Mean': [],\n",
    "    'Standard Deviation': [],\n",
    "    'Label': [],\n",
    "}\n",
    "\n",
    "# predict on test samples\n",
    "for i, sample in enumerate(X_ts[0:50, :]):\n",
    "    sample = sample.reshape(1, sample.shape[0])\n",
    "    predictions = []\n",
    "\n",
    "    for _ in range(PREDICTION_ITERATIONS):\n",
    "        predictions.append(model.predict(sample))\n",
    "\n",
    "    predictions = np.concatenate(predictions, axis=1)\n",
    "\n",
    "    results['Mean'].append(np.average(predictions, axis=1)[0])\n",
    "    results['Standard Deviation'].append(np.std(predictions, axis=1)[0])\n",
    "    results['Label'].append(y_ts.array[i])\n",
    "\n",
    "results = pd.DataFrame(data=results)\n",
    "results.head()"
   ]
  },
  {
   "cell_type": "markdown",
   "metadata": {},
   "source": [
    "### References\n",
    "\n",
    "- https://realpython.com/python-keras-text-classification/"
   ]
  }
 ],
 "metadata": {
  "interpreter": {
   "hash": "0250550d6d548e4e5a6cdc83ec66018a6064bd14f2654c3f43a648b49f3a281d"
  },
  "kernelspec": {
   "display_name": "Python 3 (ipykernel)",
   "language": "python",
   "name": "python3"
  },
  "language_info": {
   "codemirror_mode": {
    "name": "ipython",
    "version": 3
   },
   "file_extension": ".py",
   "mimetype": "text/x-python",
   "name": "python",
   "nbconvert_exporter": "python",
   "pygments_lexer": "ipython3",
   "version": "3.8.10"
  }
 },
 "nbformat": 4,
 "nbformat_minor": 2
}
