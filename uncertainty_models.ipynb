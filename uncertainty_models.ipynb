{
 "cells": [
  {
   "cell_type": "code",
   "execution_count": 26,
   "metadata": {},
   "outputs": [],
   "source": [
    "import pandas as pd\n",
    "from sklearn.feature_extraction.text import TfidfVectorizer\n",
    "from sklearn.feature_extraction.text import CountVectorizer\n",
    "from sklearn.naive_bayes import MultinomialNB\n",
    "from sklearn.model_selection import train_test_split\n",
    "from sklearn import metrics"
   ]
  },
  {
   "cell_type": "code",
   "execution_count": 27,
   "metadata": {},
   "outputs": [],
   "source": [
    "def preprocess_data(train, test, vectorizer):\n",
    "    train_bow = vectorizer.fit_transform(train['text'])\n",
    "    test_bow = vectorizer.transform(test['text'])\n",
    "    print(\"Shape of train matrix : \",train_bow.shape)\n",
    "    print(\"Shape of test matrix : \",test_bow.shape) \n",
    "\n",
    "    X_tr = train_bow\n",
    "    y_tr = train['label']\n",
    "    X_ts = test_bow\n",
    "    y_ts = test['label']\n",
    "    return X_tr, y_tr, X_ts, y_ts"
   ]
  },
  {
   "cell_type": "code",
   "execution_count": 28,
   "metadata": {},
   "outputs": [],
   "source": [
    "def train_models(X_tr, y_tr, X_ts, y_ts, models):\n",
    "    for model in models:\n",
    "        model.fit(X_tr, y_tr)\n",
    "        y_pred = model.predict(X_ts)\n",
    "\n",
    "        score1 = metrics.accuracy_score(y_ts, y_pred)\n",
    "        print(\"accuracy:   %0.3f\" % score1)\n",
    "        print(metrics.classification_report(y_ts, y_pred,\n",
    "                                            target_names=['Positive', 'Negative']))\n",
    "        print(\"confusion matrix:\")\n",
    "        print(metrics.confusion_matrix(y_ts, y_pred))\n",
    "        \n",
    "        y_pred = model.predict_proba(X_ts)\n",
    "        print(\"Prediction probability:\")\n",
    "        print(y_pred)"
   ]
  },
  {
   "cell_type": "code",
   "execution_count": 29,
   "metadata": {},
   "outputs": [],
   "source": [
    "df = pd.read_csv('preprocessing/data.csv', encoding='latin')\n",
    "train, test = train_test_split(df, test_size=0.2, random_state=1)"
   ]
  },
  {
   "cell_type": "code",
   "execution_count": 30,
   "metadata": {},
   "outputs": [],
   "source": [
    "proba_models = [MultinomialNB()]"
   ]
  },
  {
   "cell_type": "code",
   "execution_count": 31,
   "metadata": {},
   "outputs": [
    {
     "name": "stdout",
     "output_type": "stream",
     "text": [
      "Shape of train matrix :  (35918, 118074)\n",
      "Shape of test matrix :  (8980, 118074)\n",
      "accuracy:   0.972\n",
      "              precision    recall  f1-score   support\n",
      "\n",
      "    Positive       0.96      0.98      0.97      4298\n",
      "    Negative       0.98      0.96      0.97      4682\n",
      "\n",
      "    accuracy                           0.97      8980\n",
      "   macro avg       0.97      0.97      0.97      8980\n",
      "weighted avg       0.97      0.97      0.97      8980\n",
      "\n",
      "confusion matrix:\n",
      "[[4226   72]\n",
      " [ 183 4499]]\n",
      "Prediction probability:\n",
      "[[3.68537926e-33 1.00000000e+00]\n",
      " [1.00000000e+00 1.24739818e-14]\n",
      " [2.65239791e-37 1.00000000e+00]\n",
      " ...\n",
      " [1.00000000e+00 4.69429536e-59]\n",
      " [1.00000000e+00 1.86692150e-62]\n",
      " [1.00000000e+00 1.05325955e-18]]\n"
     ]
    }
   ],
   "source": [
    "countVectorizer = CountVectorizer()\n",
    "X_tr, y_tr, X_ts, y_ts = preprocess_data(train, test, countVectorizer)\n",
    "train_models(X_tr, y_tr, X_ts, y_ts, proba_models)"
   ]
  },
  {
   "cell_type": "code",
   "execution_count": 32,
   "metadata": {},
   "outputs": [
    {
     "name": "stdout",
     "output_type": "stream",
     "text": [
      "Shape of train matrix :  (35918, 118074)\n",
      "Shape of test matrix :  (8980, 118074)\n",
      "accuracy:   0.958\n",
      "              precision    recall  f1-score   support\n",
      "\n",
      "    Positive       0.95      0.96      0.96      4298\n",
      "    Negative       0.96      0.96      0.96      4682\n",
      "\n",
      "    accuracy                           0.96      8980\n",
      "   macro avg       0.96      0.96      0.96      8980\n",
      "weighted avg       0.96      0.96      0.96      8980\n",
      "\n",
      "confusion matrix:\n",
      "[[4125  173]\n",
      " [ 203 4479]]\n",
      "Prediction probability:\n",
      "[[0.05927066 0.94072934]\n",
      " [0.72441826 0.27558174]\n",
      " [0.02096882 0.97903118]\n",
      " ...\n",
      " [0.95050425 0.04949575]\n",
      " [0.99210413 0.00789587]\n",
      " [0.83269941 0.16730059]]\n"
     ]
    }
   ],
   "source": [
    "tfidfVectorizer = TfidfVectorizer()\n",
    "X_tr, y_tr, X_ts, y_ts = preprocess_data(train, test, tfidfVectorizer)\n",
    "train_models(X_tr, y_tr, X_ts, y_ts, proba_models)"
   ]
  }
 ],
 "metadata": {
  "interpreter": {
   "hash": "0250550d6d548e4e5a6cdc83ec66018a6064bd14f2654c3f43a648b49f3a281d"
  },
  "kernelspec": {
   "display_name": "Python 3.8.10 ('venv': venv)",
   "language": "python",
   "name": "python3"
  },
  "language_info": {
   "codemirror_mode": {
    "name": "ipython",
    "version": 3
   },
   "file_extension": ".py",
   "mimetype": "text/x-python",
   "name": "python",
   "nbconvert_exporter": "python",
   "pygments_lexer": "ipython3",
   "version": "3.8.10"
  },
  "orig_nbformat": 4
 },
 "nbformat": 4,
 "nbformat_minor": 2
}
