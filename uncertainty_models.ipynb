{
 "cells": [
  {
   "cell_type": "code",
   "execution_count": 53,
   "metadata": {},
   "outputs": [],
   "source": [
    "import pandas as pd\n",
    "from sklearn.feature_extraction.text import TfidfVectorizer\n",
    "from sklearn.feature_extraction.text import CountVectorizer\n",
    "from sklearn.naive_bayes import MultinomialNB\n",
    "from sklearn.model_selection import train_test_split\n",
    "from sklearn import metrics\n",
    "from common import *\n",
    "import os\n",
    "import tarfile\n",
    "import glob\n",
    "from sentence_transformers import SentenceTransformer\n"
   ]
  },
  {
   "cell_type": "code",
   "execution_count": 54,
   "metadata": {},
   "outputs": [
    {
     "name": "stdout",
     "output_type": "stream",
     "text": [
      "Size of dataset: 100000\n"
     ]
    },
    {
     "data": {
      "text/html": [
       "<div>\n",
       "<style scoped>\n",
       "    .dataframe tbody tr th:only-of-type {\n",
       "        vertical-align: middle;\n",
       "    }\n",
       "\n",
       "    .dataframe tbody tr th {\n",
       "        vertical-align: top;\n",
       "    }\n",
       "\n",
       "    .dataframe thead th {\n",
       "        text-align: right;\n",
       "    }\n",
       "</style>\n",
       "<table border=\"1\" class=\"dataframe\">\n",
       "  <thead>\n",
       "    <tr style=\"text-align: right;\">\n",
       "      <th></th>\n",
       "      <th>text</th>\n",
       "      <th>label</th>\n",
       "    </tr>\n",
       "  </thead>\n",
       "  <tbody>\n",
       "    <tr>\n",
       "      <th>0</th>\n",
       "      <td>Tromeo and Juliet is perhaps the best Shakespe...</td>\n",
       "      <td>1</td>\n",
       "    </tr>\n",
       "    <tr>\n",
       "      <th>1</th>\n",
       "      <td>The book \"The Railway Children\" is a children'...</td>\n",
       "      <td>1</td>\n",
       "    </tr>\n",
       "    <tr>\n",
       "      <th>2</th>\n",
       "      <td>If you're into alternate realities, contemplat...</td>\n",
       "      <td>1</td>\n",
       "    </tr>\n",
       "    <tr>\n",
       "      <th>3</th>\n",
       "      <td>If not the best movie ever made, \"Babette's Fe...</td>\n",
       "      <td>1</td>\n",
       "    </tr>\n",
       "    <tr>\n",
       "      <th>4</th>\n",
       "      <td>SPOILERS BELOW&lt;br /&gt;&lt;br /&gt;`A Dog's Life' was m...</td>\n",
       "      <td>1</td>\n",
       "    </tr>\n",
       "  </tbody>\n",
       "</table>\n",
       "</div>"
      ],
      "text/plain": [
       "                                                text  label\n",
       "0  Tromeo and Juliet is perhaps the best Shakespe...      1\n",
       "1  The book \"The Railway Children\" is a children'...      1\n",
       "2  If you're into alternate realities, contemplat...      1\n",
       "3  If not the best movie ever made, \"Babette's Fe...      1\n",
       "4  SPOILERS BELOW<br /><br />`A Dog's Life' was m...      1"
      ]
     },
     "execution_count": 54,
     "metadata": {},
     "output_type": "execute_result"
    }
   ],
   "source": [
    "if not os.path.exists('aclImdb'):\n",
    "    if not os.path.exists('aclImdb_v1.tar.gz'):\n",
    "        files = download_data()\n",
    "    else:\n",
    "        files = ['aclImdb_v1.tar.gz']\n",
    "    \n",
    "    tarfile.open(files[0]).extractall()\n",
    "\n",
    "paths = glob.glob('aclImdb/**/pos/*.txt', recursive=True)\n",
    "pos_frame = get_data(paths, 1)\n",
    "paths = glob.glob('aclImdb/**/neg/*.txt', recursive=True)\n",
    "neg_frame = get_data(paths, 0)\n",
    "\n",
    "df = pd.concat([pos_frame, neg_frame])\n",
    "print(f'Size of dataset: {df.size}')\n",
    "df.head()"
   ]
  },
  {
   "cell_type": "code",
   "execution_count": 55,
   "metadata": {},
   "outputs": [
    {
     "data": {
      "text/html": [
       "<div>\n",
       "<style scoped>\n",
       "    .dataframe tbody tr th:only-of-type {\n",
       "        vertical-align: middle;\n",
       "    }\n",
       "\n",
       "    .dataframe tbody tr th {\n",
       "        vertical-align: top;\n",
       "    }\n",
       "\n",
       "    .dataframe thead th {\n",
       "        text-align: right;\n",
       "    }\n",
       "</style>\n",
       "<table border=\"1\" class=\"dataframe\">\n",
       "  <thead>\n",
       "    <tr style=\"text-align: right;\">\n",
       "      <th></th>\n",
       "      <th>text</th>\n",
       "      <th>label</th>\n",
       "    </tr>\n",
       "  </thead>\n",
       "  <tbody>\n",
       "    <tr>\n",
       "      <th>1247</th>\n",
       "      <td>As a kid, this movie scared me green. As an ad...</td>\n",
       "      <td>0</td>\n",
       "    </tr>\n",
       "    <tr>\n",
       "      <th>10067</th>\n",
       "      <td>It is a movie which sheds the light on the beg...</td>\n",
       "      <td>0</td>\n",
       "    </tr>\n",
       "    <tr>\n",
       "      <th>9590</th>\n",
       "      <td>Talk about being boring!&lt;br /&gt;&lt;br /&gt;I got this...</td>\n",
       "      <td>0</td>\n",
       "    </tr>\n",
       "    <tr>\n",
       "      <th>16668</th>\n",
       "      <td>One of Disney's best films that I can enjoy wa...</td>\n",
       "      <td>1</td>\n",
       "    </tr>\n",
       "    <tr>\n",
       "      <th>12196</th>\n",
       "      <td>Being a bit of a connoisseur of garbage, I hav...</td>\n",
       "      <td>1</td>\n",
       "    </tr>\n",
       "  </tbody>\n",
       "</table>\n",
       "</div>"
      ],
      "text/plain": [
       "                                                    text  label\n",
       "1247   As a kid, this movie scared me green. As an ad...      0\n",
       "10067  It is a movie which sheds the light on the beg...      0\n",
       "9590   Talk about being boring!<br /><br />I got this...      0\n",
       "16668  One of Disney's best films that I can enjoy wa...      1\n",
       "12196  Being a bit of a connoisseur of garbage, I hav...      1"
      ]
     },
     "execution_count": 55,
     "metadata": {},
     "output_type": "execute_result"
    }
   ],
   "source": [
    "df = df.sample(n=NUM_SAMPLES, random_state=RANDOM_SEED)\n",
    "df.head()"
   ]
  },
  {
   "cell_type": "code",
   "execution_count": 56,
   "metadata": {},
   "outputs": [
    {
     "data": {
      "text/plain": [
       "'if not os.path.exists(\\'data.csv\\'):\\n    if not os.path.exists(\\'Fake.csv\\') and not os.path.exists(\\'True.csv\\'):\\n        download_data()\\n    label_data(\\'Fake.csv\\', \\'fake_labeled.csv\\', 1)\\n    label_data(\\'True.csv\\', \\'true_labeled.csv\\', 0)\\n    os.system(\"awk \\'(NR == 1) || (FNR > 1)\\' *labeled.csv > data.csv\")'"
      ]
     },
     "execution_count": 56,
     "metadata": {},
     "output_type": "execute_result"
    }
   ],
   "source": [
    "\"\"\"if not os.path.exists('data.csv'):\n",
    "    if not os.path.exists('Fake.csv') and not os.path.exists('True.csv'):\n",
    "        download_data()\n",
    "    label_data('Fake.csv', 'fake_labeled.csv', 1)\n",
    "    label_data('True.csv', 'true_labeled.csv', 0)\n",
    "    os.system(\"awk '(NR == 1) || (FNR > 1)' *labeled.csv > data.csv\")\"\"\""
   ]
  },
  {
   "cell_type": "code",
   "execution_count": 57,
   "metadata": {},
   "outputs": [
    {
     "data": {
      "text/plain": [
       "\"df = pd.read_csv('data.csv', usecols=['text', 'label'], encoding='utf-8')\\ndf = df.sample(n=NUM_SAMPLES, random_state=RANDOM_SEED)\\ndf.head()\""
      ]
     },
     "execution_count": 57,
     "metadata": {},
     "output_type": "execute_result"
    }
   ],
   "source": [
    "\"\"\"df = pd.read_csv('data.csv', usecols=['text', 'label'], encoding='utf-8')\n",
    "df = df.sample(n=NUM_SAMPLES, random_state=RANDOM_SEED)\n",
    "df.head()\"\"\""
   ]
  },
  {
   "cell_type": "markdown",
   "metadata": {},
   "source": [
    "# BoW"
   ]
  },
  {
   "cell_type": "code",
   "execution_count": 58,
   "metadata": {},
   "outputs": [
    {
     "name": "stdout",
     "output_type": "stream",
     "text": [
      "Train shape: (2500, 51072)\n",
      "Test shape: (2500, 51072)\n"
     ]
    }
   ],
   "source": [
    "countVectorizer = CountVectorizer()\n",
    "embeddings_countVectorizer = preprocess_data(df['text'], countVectorizer)\n",
    "\n",
    "X_tr, X_ts, y_tr, y_ts= train_test_split(embeddings_countVectorizer, df['label'], test_size=TEST_SIZE, random_state=RANDOM_SEED)\n",
    "\n",
    "X_tr = X_tr.toarray()\n",
    "X_ts = X_ts.toarray()\n",
    "\n",
    "feature_size = X_tr.shape[1]\n",
    "\n",
    "print(f'Train shape: {X_tr.shape}')\n",
    "print(f'Test shape: {X_ts.shape}')"
   ]
  },
  {
   "cell_type": "code",
   "execution_count": 59,
   "metadata": {},
   "outputs": [],
   "source": [
    "def train_models(X_tr, y_tr, X_ts, y_ts, models):\n",
    "    for model in models:\n",
    "        model.fit(X_tr, y_tr)\n",
    "        y_pred = model.predict(X_ts)\n",
    "\n",
    "        score1 = metrics.accuracy_score(y_ts, y_pred)\n",
    "        print(\"accuracy:   %0.3f\" % score1)\n",
    "        print(metrics.classification_report(y_ts, y_pred,\n",
    "                                            target_names=['Positive', 'Negative']))\n",
    "        print(\"confusion matrix:\")\n",
    "        print(metrics.confusion_matrix(y_ts, y_pred))\n",
    "        \n",
    "        y_pred = model.predict_proba(X_ts)\n",
    "        print(\"Prediction probability:\")\n",
    "        print(y_pred)"
   ]
  },
  {
   "cell_type": "code",
   "execution_count": 60,
   "metadata": {},
   "outputs": [],
   "source": [
    "proba_models = [MultinomialNB()]"
   ]
  },
  {
   "cell_type": "code",
   "execution_count": 61,
   "metadata": {},
   "outputs": [
    {
     "name": "stdout",
     "output_type": "stream",
     "text": [
      "accuracy:   0.832\n",
      "              precision    recall  f1-score   support\n",
      "\n",
      "    Positive       0.81      0.86      0.83      1205\n",
      "    Negative       0.86      0.81      0.83      1295\n",
      "\n",
      "    accuracy                           0.83      2500\n",
      "   macro avg       0.83      0.83      0.83      2500\n",
      "weighted avg       0.83      0.83      0.83      2500\n",
      "\n",
      "confusion matrix:\n",
      "[[1036  169]\n",
      " [ 250 1045]]\n",
      "Prediction probability:\n",
      "[[6.54892099e-02 9.34510790e-01]\n",
      " [1.00000000e+00 5.95380434e-11]\n",
      " [9.99999818e-01 1.82457623e-07]\n",
      " ...\n",
      " [9.99789559e-01 2.10441486e-04]\n",
      " [6.10731872e-04 9.99389268e-01]\n",
      " [5.91363885e-01 4.08636115e-01]]\n"
     ]
    }
   ],
   "source": [
    "\n",
    "train_models(X_tr, y_tr, X_ts, y_ts, proba_models)"
   ]
  },
  {
   "cell_type": "markdown",
   "metadata": {},
   "source": [
    "# TF-IDF"
   ]
  },
  {
   "cell_type": "code",
   "execution_count": 62,
   "metadata": {},
   "outputs": [
    {
     "name": "stdout",
     "output_type": "stream",
     "text": [
      "Train shape: (2500, 51072)\n",
      "Test shape: (2500, 51072)\n"
     ]
    }
   ],
   "source": [
    "tfidfVectorizer = TfidfVectorizer()\n",
    "embeddings_Tfidf = preprocess_data(df['text'], tfidfVectorizer)\n",
    "\n",
    "X_tr, X_ts, y_tr, y_ts= train_test_split(embeddings_Tfidf, df['label'], test_size=TEST_SIZE, random_state=RANDOM_SEED)\n",
    "\n",
    "X_tr = X_tr.toarray()\n",
    "X_ts = X_ts.toarray()\n",
    "\n",
    "feature_size = X_tr.shape[1]\n",
    "\n",
    "print(f'Train shape: {X_tr.shape}')\n",
    "print(f'Test shape: {X_ts.shape}')"
   ]
  },
  {
   "cell_type": "code",
   "execution_count": 63,
   "metadata": {},
   "outputs": [
    {
     "name": "stdout",
     "output_type": "stream",
     "text": [
      "accuracy:   0.859\n",
      "              precision    recall  f1-score   support\n",
      "\n",
      "    Positive       0.85      0.86      0.85      1205\n",
      "    Negative       0.87      0.86      0.86      1295\n",
      "\n",
      "    accuracy                           0.86      2500\n",
      "   macro avg       0.86      0.86      0.86      2500\n",
      "weighted avg       0.86      0.86      0.86      2500\n",
      "\n",
      "confusion matrix:\n",
      "[[1039  166]\n",
      " [ 187 1108]]\n",
      "Prediction probability:\n",
      "[[0.38613687 0.61386313]\n",
      " [0.69810695 0.30189305]\n",
      " [0.66353683 0.33646317]\n",
      " ...\n",
      " [0.56982261 0.43017739]\n",
      " [0.37954454 0.62045546]\n",
      " [0.45090318 0.54909682]]\n"
     ]
    }
   ],
   "source": [
    "train_models(X_tr, y_tr, X_ts, y_ts, proba_models)"
   ]
  },
  {
   "cell_type": "code",
   "execution_count": 66,
   "metadata": {},
   "outputs": [
    {
     "ename": "ValueError",
     "evalue": "Negative values in data passed to MultinomialNB (input X)",
     "output_type": "error",
     "traceback": [
      "\u001b[0;31m---------------------------------------------------------------------------\u001b[0m",
      "\u001b[0;31mValueError\u001b[0m                                Traceback (most recent call last)",
      "\u001b[1;32m/home/justus/MA-540-TEAM3/uncertainty_models.ipynb Cell 14'\u001b[0m in \u001b[0;36m<cell line: 14>\u001b[0;34m()\u001b[0m\n\u001b[1;32m     <a href='vscode-notebook-cell:/home/justus/MA-540-TEAM3/uncertainty_models.ipynb#ch0000016?line=10'>11</a>\u001b[0m X_tr \u001b[39m=\u001b[39m sbert_vectorizer\u001b[39m.\u001b[39mencode(X_tr\u001b[39m.\u001b[39mvalues\u001b[39m.\u001b[39mastype(\u001b[39m'\u001b[39m\u001b[39mU\u001b[39m\u001b[39m'\u001b[39m), normalize_embeddings\u001b[39m=\u001b[39m\u001b[39mTrue\u001b[39;00m)\n\u001b[1;32m     <a href='vscode-notebook-cell:/home/justus/MA-540-TEAM3/uncertainty_models.ipynb#ch0000016?line=11'>12</a>\u001b[0m X_ts \u001b[39m=\u001b[39m sbert_vectorizer\u001b[39m.\u001b[39mencode(X_ts\u001b[39m.\u001b[39mvalues\u001b[39m.\u001b[39mastype(\u001b[39m'\u001b[39m\u001b[39mU\u001b[39m\u001b[39m'\u001b[39m), normalize_embeddings\u001b[39m=\u001b[39m\u001b[39mTrue\u001b[39;00m)\n\u001b[0;32m---> <a href='vscode-notebook-cell:/home/justus/MA-540-TEAM3/uncertainty_models.ipynb#ch0000016?line=13'>14</a>\u001b[0m train_models(X_tr, y_tr, X_ts, y_ts, proba_models)\n",
      "\u001b[1;32m/home/justus/MA-540-TEAM3/uncertainty_models.ipynb Cell 8'\u001b[0m in \u001b[0;36mtrain_models\u001b[0;34m(X_tr, y_tr, X_ts, y_ts, models)\u001b[0m\n\u001b[1;32m      <a href='vscode-notebook-cell:/home/justus/MA-540-TEAM3/uncertainty_models.ipynb#ch0000006?line=0'>1</a>\u001b[0m \u001b[39mdef\u001b[39;00m \u001b[39mtrain_models\u001b[39m(X_tr, y_tr, X_ts, y_ts, models):\n\u001b[1;32m      <a href='vscode-notebook-cell:/home/justus/MA-540-TEAM3/uncertainty_models.ipynb#ch0000006?line=1'>2</a>\u001b[0m     \u001b[39mfor\u001b[39;00m model \u001b[39min\u001b[39;00m models:\n\u001b[0;32m----> <a href='vscode-notebook-cell:/home/justus/MA-540-TEAM3/uncertainty_models.ipynb#ch0000006?line=2'>3</a>\u001b[0m         model\u001b[39m.\u001b[39;49mfit(X_tr, y_tr)\n\u001b[1;32m      <a href='vscode-notebook-cell:/home/justus/MA-540-TEAM3/uncertainty_models.ipynb#ch0000006?line=3'>4</a>\u001b[0m         y_pred \u001b[39m=\u001b[39m model\u001b[39m.\u001b[39mpredict(X_ts)\n\u001b[1;32m      <a href='vscode-notebook-cell:/home/justus/MA-540-TEAM3/uncertainty_models.ipynb#ch0000006?line=5'>6</a>\u001b[0m         score1 \u001b[39m=\u001b[39m metrics\u001b[39m.\u001b[39maccuracy_score(y_ts, y_pred)\n",
      "File \u001b[0;32m~/MA-540-TEAM3/venv/lib/python3.8/site-packages/sklearn/naive_bayes.py:690\u001b[0m, in \u001b[0;36m_BaseDiscreteNB.fit\u001b[0;34m(self, X, y, sample_weight)\u001b[0m\n\u001b[1;32m    <a href='file:///home/justus/MA-540-TEAM3/venv/lib/python3.8/site-packages/sklearn/naive_bayes.py?line=687'>688</a>\u001b[0m n_classes \u001b[39m=\u001b[39m Y\u001b[39m.\u001b[39mshape[\u001b[39m1\u001b[39m]\n\u001b[1;32m    <a href='file:///home/justus/MA-540-TEAM3/venv/lib/python3.8/site-packages/sklearn/naive_bayes.py?line=688'>689</a>\u001b[0m \u001b[39mself\u001b[39m\u001b[39m.\u001b[39m_init_counters(n_classes, n_features)\n\u001b[0;32m--> <a href='file:///home/justus/MA-540-TEAM3/venv/lib/python3.8/site-packages/sklearn/naive_bayes.py?line=689'>690</a>\u001b[0m \u001b[39mself\u001b[39;49m\u001b[39m.\u001b[39;49m_count(X, Y)\n\u001b[1;32m    <a href='file:///home/justus/MA-540-TEAM3/venv/lib/python3.8/site-packages/sklearn/naive_bayes.py?line=690'>691</a>\u001b[0m alpha \u001b[39m=\u001b[39m \u001b[39mself\u001b[39m\u001b[39m.\u001b[39m_check_alpha()\n\u001b[1;32m    <a href='file:///home/justus/MA-540-TEAM3/venv/lib/python3.8/site-packages/sklearn/naive_bayes.py?line=691'>692</a>\u001b[0m \u001b[39mself\u001b[39m\u001b[39m.\u001b[39m_update_feature_log_prob(alpha)\n",
      "File \u001b[0;32m~/MA-540-TEAM3/venv/lib/python3.8/site-packages/sklearn/naive_bayes.py:863\u001b[0m, in \u001b[0;36mMultinomialNB._count\u001b[0;34m(self, X, Y)\u001b[0m\n\u001b[1;32m    <a href='file:///home/justus/MA-540-TEAM3/venv/lib/python3.8/site-packages/sklearn/naive_bayes.py?line=860'>861</a>\u001b[0m \u001b[39mdef\u001b[39;00m \u001b[39m_count\u001b[39m(\u001b[39mself\u001b[39m, X, Y):\n\u001b[1;32m    <a href='file:///home/justus/MA-540-TEAM3/venv/lib/python3.8/site-packages/sklearn/naive_bayes.py?line=861'>862</a>\u001b[0m     \u001b[39m\"\"\"Count and smooth feature occurrences.\"\"\"\u001b[39;00m\n\u001b[0;32m--> <a href='file:///home/justus/MA-540-TEAM3/venv/lib/python3.8/site-packages/sklearn/naive_bayes.py?line=862'>863</a>\u001b[0m     check_non_negative(X, \u001b[39m\"\u001b[39;49m\u001b[39mMultinomialNB (input X)\u001b[39;49m\u001b[39m\"\u001b[39;49m)\n\u001b[1;32m    <a href='file:///home/justus/MA-540-TEAM3/venv/lib/python3.8/site-packages/sklearn/naive_bayes.py?line=863'>864</a>\u001b[0m     \u001b[39mself\u001b[39m\u001b[39m.\u001b[39mfeature_count_ \u001b[39m+\u001b[39m\u001b[39m=\u001b[39m safe_sparse_dot(Y\u001b[39m.\u001b[39mT, X)\n\u001b[1;32m    <a href='file:///home/justus/MA-540-TEAM3/venv/lib/python3.8/site-packages/sklearn/naive_bayes.py?line=864'>865</a>\u001b[0m     \u001b[39mself\u001b[39m\u001b[39m.\u001b[39mclass_count_ \u001b[39m+\u001b[39m\u001b[39m=\u001b[39m Y\u001b[39m.\u001b[39msum(axis\u001b[39m=\u001b[39m\u001b[39m0\u001b[39m)\n",
      "File \u001b[0;32m~/MA-540-TEAM3/venv/lib/python3.8/site-packages/sklearn/utils/validation.py:1249\u001b[0m, in \u001b[0;36mcheck_non_negative\u001b[0;34m(X, whom)\u001b[0m\n\u001b[1;32m   <a href='file:///home/justus/MA-540-TEAM3/venv/lib/python3.8/site-packages/sklearn/utils/validation.py?line=1245'>1246</a>\u001b[0m     X_min \u001b[39m=\u001b[39m X\u001b[39m.\u001b[39mmin()\n\u001b[1;32m   <a href='file:///home/justus/MA-540-TEAM3/venv/lib/python3.8/site-packages/sklearn/utils/validation.py?line=1247'>1248</a>\u001b[0m \u001b[39mif\u001b[39;00m X_min \u001b[39m<\u001b[39m \u001b[39m0\u001b[39m:\n\u001b[0;32m-> <a href='file:///home/justus/MA-540-TEAM3/venv/lib/python3.8/site-packages/sklearn/utils/validation.py?line=1248'>1249</a>\u001b[0m     \u001b[39mraise\u001b[39;00m \u001b[39mValueError\u001b[39;00m(\u001b[39m\"\u001b[39m\u001b[39mNegative values in data passed to \u001b[39m\u001b[39m%s\u001b[39;00m\u001b[39m\"\u001b[39m \u001b[39m%\u001b[39m whom)\n",
      "\u001b[0;31mValueError\u001b[0m: Negative values in data passed to MultinomialNB (input X)"
     ]
    }
   ],
   "source": [
    "sbert_vectorizer = SentenceTransformer('all-MiniLM-L6-v2')\n",
    "\n",
    "df['text'] = df['text'].str.lower()\n",
    "df['text'] = df['text'].apply(\n",
    "    lambda text: text.translate(\n",
    "        str.maketrans('', '', string.punctuation)\n",
    "    )\n",
    ")\n",
    "\n",
    "X_tr, X_ts, y_tr, y_ts = train_test_split(df['text'], df['label'], test_size=TEST_SIZE, random_state=RANDOM_SEED)\n",
    "X_tr = sbert_vectorizer.encode(X_tr.values.astype('U'), normalize_embeddings=True)\n",
    "X_ts = sbert_vectorizer.encode(X_ts.values.astype('U'), normalize_embeddings=True)\n",
    "\n",
    "train_models(X_tr, y_tr, X_ts, y_ts, proba_models)"
   ]
  }
 ],
 "metadata": {
  "interpreter": {
   "hash": "0250550d6d548e4e5a6cdc83ec66018a6064bd14f2654c3f43a648b49f3a281d"
  },
  "kernelspec": {
   "display_name": "Python 3.8.10 ('venv': venv)",
   "language": "python",
   "name": "python3"
  },
  "language_info": {
   "codemirror_mode": {
    "name": "ipython",
    "version": 3
   },
   "file_extension": ".py",
   "mimetype": "text/x-python",
   "name": "python",
   "nbconvert_exporter": "python",
   "pygments_lexer": "ipython3",
   "version": "3.8.10"
  },
  "orig_nbformat": 4
 },
 "nbformat": 4,
 "nbformat_minor": 2
}
