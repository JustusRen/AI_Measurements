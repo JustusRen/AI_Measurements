{
 "cells": [
  {
   "cell_type": "code",
   "execution_count": 17,
   "metadata": {},
   "outputs": [],
   "source": [
    "import pandas as pd\n",
    "from sklearn.feature_extraction.text import TfidfVectorizer\n",
    "from sklearn.feature_extraction.text import CountVectorizer\n",
    "from sklearn.naive_bayes import MultinomialNB\n",
    "from sklearn.model_selection import train_test_split\n",
    "from sklearn import metrics\n",
    "from common import *\n",
    "import os\n"
   ]
  },
  {
   "cell_type": "code",
   "execution_count": 18,
   "metadata": {},
   "outputs": [],
   "source": [
    "if not os.path.exists('data.csv'):\n",
    "    if not os.path.exists('Fake.csv') and not os.path.exists('True.csv'):\n",
    "        download_data()\n",
    "    label_data('Fake.csv', 'fake_labeled.csv', 1)\n",
    "    label_data('True.csv', 'true_labeled.csv', 0)\n",
    "    os.system(\"awk '(NR == 1) || (FNR > 1)' *labeled.csv > data.csv\")"
   ]
  },
  {
   "cell_type": "code",
   "execution_count": 19,
   "metadata": {},
   "outputs": [
    {
     "data": {
      "text/html": [
       "<div>\n",
       "<style scoped>\n",
       "    .dataframe tbody tr th:only-of-type {\n",
       "        vertical-align: middle;\n",
       "    }\n",
       "\n",
       "    .dataframe tbody tr th {\n",
       "        vertical-align: top;\n",
       "    }\n",
       "\n",
       "    .dataframe thead th {\n",
       "        text-align: right;\n",
       "    }\n",
       "</style>\n",
       "<table border=\"1\" class=\"dataframe\">\n",
       "  <thead>\n",
       "    <tr style=\"text-align: right;\">\n",
       "      <th></th>\n",
       "      <th>text</th>\n",
       "      <th>label</th>\n",
       "    </tr>\n",
       "  </thead>\n",
       "  <tbody>\n",
       "    <tr>\n",
       "      <th>4528</th>\n",
       "      <td>Donald Trump is calling for one of the most co...</td>\n",
       "      <td>1</td>\n",
       "    </tr>\n",
       "    <tr>\n",
       "      <th>31727</th>\n",
       "      <td>WASHINGTON (Reuters) - Former Republican U.S. ...</td>\n",
       "      <td>0</td>\n",
       "    </tr>\n",
       "    <tr>\n",
       "      <th>10937</th>\n",
       "      <td>You re never to young to commit jihad Teachers...</td>\n",
       "      <td>1</td>\n",
       "    </tr>\n",
       "    <tr>\n",
       "      <th>13470</th>\n",
       "      <td>Laura Ingraham reminds the Never Trump people ...</td>\n",
       "      <td>1</td>\n",
       "    </tr>\n",
       "    <tr>\n",
       "      <th>40814</th>\n",
       "      <td>BERLIN/HANOVER (Reuters) - Germany s Social De...</td>\n",
       "      <td>0</td>\n",
       "    </tr>\n",
       "  </tbody>\n",
       "</table>\n",
       "</div>"
      ],
      "text/plain": [
       "                                                    text  label\n",
       "4528   Donald Trump is calling for one of the most co...      1\n",
       "31727  WASHINGTON (Reuters) - Former Republican U.S. ...      0\n",
       "10937  You re never to young to commit jihad Teachers...      1\n",
       "13470  Laura Ingraham reminds the Never Trump people ...      1\n",
       "40814  BERLIN/HANOVER (Reuters) - Germany s Social De...      0"
      ]
     },
     "execution_count": 19,
     "metadata": {},
     "output_type": "execute_result"
    }
   ],
   "source": [
    "df = pd.read_csv('data.csv', usecols=['text', 'label'], encoding='utf-8')\n",
    "df = df.sample(n=NUM_SAMPLES, random_state=RANDOM_SEED)\n",
    "df.head()"
   ]
  },
  {
   "cell_type": "markdown",
   "metadata": {},
   "source": [
    "# BoW"
   ]
  },
  {
   "cell_type": "code",
   "execution_count": 20,
   "metadata": {},
   "outputs": [
    {
     "name": "stdout",
     "output_type": "stream",
     "text": [
      "Train shape: (1500, 49912)\n",
      "Test shape: (1500, 49912)\n"
     ]
    }
   ],
   "source": [
    "countVectorizer = CountVectorizer()\n",
    "embeddings_countVectorizer = preprocess_data(df['text'], countVectorizer)\n",
    "\n",
    "X_tr, X_ts, y_tr, y_ts= train_test_split(embeddings_countVectorizer, df['label'], test_size=TEST_SIZE, random_state=RANDOM_SEED)\n",
    "\n",
    "X_tr = X_tr.toarray()\n",
    "X_ts = X_ts.toarray()\n",
    "\n",
    "feature_size = X_tr.shape[1]\n",
    "\n",
    "print(f'Train shape: {X_tr.shape}')\n",
    "print(f'Test shape: {X_ts.shape}')"
   ]
  },
  {
   "cell_type": "code",
   "execution_count": 21,
   "metadata": {},
   "outputs": [],
   "source": [
    "def train_models(X_tr, y_tr, X_ts, y_ts, models):\n",
    "    for model in models:\n",
    "        model.fit(X_tr, y_tr)\n",
    "        y_pred = model.predict(X_ts)\n",
    "\n",
    "        score1 = metrics.accuracy_score(y_ts, y_pred)\n",
    "        print(\"accuracy:   %0.3f\" % score1)\n",
    "        print(metrics.classification_report(y_ts, y_pred,\n",
    "                                            target_names=['Positive', 'Negative']))\n",
    "        print(\"confusion matrix:\")\n",
    "        print(metrics.confusion_matrix(y_ts, y_pred))\n",
    "        \n",
    "        y_pred = model.predict_proba(X_ts)\n",
    "        print(\"Prediction probability:\")\n",
    "        print(y_pred)"
   ]
  },
  {
   "cell_type": "code",
   "execution_count": 22,
   "metadata": {},
   "outputs": [],
   "source": [
    "proba_models = [MultinomialNB()]"
   ]
  },
  {
   "cell_type": "code",
   "execution_count": 23,
   "metadata": {},
   "outputs": [
    {
     "name": "stdout",
     "output_type": "stream",
     "text": [
      "accuracy:   0.922\n",
      "              precision    recall  f1-score   support\n",
      "\n",
      "    Positive       0.89      0.95      0.92       718\n",
      "    Negative       0.95      0.90      0.92       782\n",
      "\n",
      "    accuracy                           0.92      1500\n",
      "   macro avg       0.92      0.92      0.92      1500\n",
      "weighted avg       0.92      0.92      0.92      1500\n",
      "\n",
      "confusion matrix:\n",
      "[[682  36]\n",
      " [ 81 701]]\n",
      "Prediction probability:\n",
      "[[8.66357871e-01 1.33642129e-01]\n",
      " [1.00000000e+00 9.20608421e-22]\n",
      " [6.41169980e-20 1.00000000e+00]\n",
      " ...\n",
      " [4.09715794e-19 1.00000000e+00]\n",
      " [1.24574664e-16 1.00000000e+00]\n",
      " [5.12786000e-11 1.00000000e+00]]\n"
     ]
    }
   ],
   "source": [
    "train_models(X_tr, y_tr, X_ts, y_ts, proba_models)"
   ]
  },
  {
   "cell_type": "markdown",
   "metadata": {},
   "source": [
    "# TF-IDF"
   ]
  },
  {
   "cell_type": "code",
   "execution_count": 24,
   "metadata": {},
   "outputs": [
    {
     "name": "stdout",
     "output_type": "stream",
     "text": [
      "Train shape: (1500, 49912)\n",
      "Test shape: (1500, 49912)\n"
     ]
    }
   ],
   "source": [
    "tfidfVectorizer = TfidfVectorizer()\n",
    "embeddings_Tfidf = preprocess_data(df['text'], tfidfVectorizer)\n",
    "\n",
    "X_tr, X_ts, y_tr, y_ts= train_test_split(embeddings_Tfidf, df['label'], test_size=TEST_SIZE, random_state=RANDOM_SEED)\n",
    "\n",
    "X_tr = X_tr.toarray()\n",
    "X_ts = X_ts.toarray()\n",
    "\n",
    "feature_size = X_tr.shape[1]\n",
    "\n",
    "print(f'Train shape: {X_tr.shape}')\n",
    "print(f'Test shape: {X_ts.shape}')"
   ]
  },
  {
   "cell_type": "code",
   "execution_count": 25,
   "metadata": {},
   "outputs": [
    {
     "name": "stdout",
     "output_type": "stream",
     "text": [
      "accuracy:   0.899\n",
      "              precision    recall  f1-score   support\n",
      "\n",
      "    Positive       0.85      0.95      0.90       718\n",
      "    Negative       0.95      0.85      0.90       782\n",
      "\n",
      "    accuracy                           0.90      1500\n",
      "   macro avg       0.90      0.90      0.90      1500\n",
      "weighted avg       0.90      0.90      0.90      1500\n",
      "\n",
      "confusion matrix:\n",
      "[[684  34]\n",
      " [117 665]]\n",
      "Prediction probability:\n",
      "[[0.56971403 0.43028597]\n",
      " [0.65121106 0.34878894]\n",
      " [0.2992888  0.7007112 ]\n",
      " ...\n",
      " [0.12051147 0.87948853]\n",
      " [0.34054657 0.65945343]\n",
      " [0.49025386 0.50974614]]\n"
     ]
    }
   ],
   "source": [
    "train_models(X_tr, y_tr, X_ts, y_ts, proba_models)"
   ]
  }
 ],
 "metadata": {
  "interpreter": {
   "hash": "0250550d6d548e4e5a6cdc83ec66018a6064bd14f2654c3f43a648b49f3a281d"
  },
  "kernelspec": {
   "display_name": "Python 3.8.10 ('venv': venv)",
   "language": "python",
   "name": "python3"
  },
  "language_info": {
   "codemirror_mode": {
    "name": "ipython",
    "version": 3
   },
   "file_extension": ".py",
   "mimetype": "text/x-python",
   "name": "python",
   "nbconvert_exporter": "python",
   "pygments_lexer": "ipython3",
   "version": "3.8.10"
  },
  "orig_nbformat": 4
 },
 "nbformat": 4,
 "nbformat_minor": 2
}
