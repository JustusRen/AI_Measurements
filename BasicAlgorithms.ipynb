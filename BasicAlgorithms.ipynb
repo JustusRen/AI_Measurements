{
 "cells": [
  {
   "cell_type": "code",
   "execution_count": null,
   "id": "b133f10e",
   "metadata": {},
   "outputs": [],
   "source": [
    "pip install -U sentence-transformers"
   ]
  },
  {
   "cell_type": "code",
   "execution_count": null,
   "id": "660db270",
   "metadata": {},
   "outputs": [],
   "source": [
    "import pandas as pd\n",
    "import numpy as np\n",
    "from sklearn.model_selection import train_test_split\n",
    "from sklearn.metrics import classification_report\n",
    "import re\n",
    "import string\n",
    "from common import RANDOM_SEED"
   ]
  },
  {
   "cell_type": "code",
   "execution_count": null,
   "id": "dc6dd0d4",
   "metadata": {},
   "outputs": [],
   "source": [
    "df_fake = pd.read_csv(\"Negative.csv\", encoding='latin-1')\n",
    "df_true = pd.read_csv(\"Positive.csv\", encoding='latin-1')"
   ]
  },
  {
   "cell_type": "code",
   "execution_count": null,
   "id": "371b3ee7",
   "metadata": {},
   "outputs": [],
   "source": [
    "df_true.head(10)"
   ]
  },
  {
   "cell_type": "code",
   "execution_count": null,
   "id": "2388f9a0",
   "metadata": {},
   "outputs": [],
   "source": [
    "df_fake[\"class\"] = 0\n",
    "df_true[\"class\"] = 1"
   ]
  },
  {
   "cell_type": "code",
   "execution_count": null,
   "id": "b223af08",
   "metadata": {},
   "outputs": [],
   "source": [
    "df_fake.shape, df_true.shape"
   ]
  },
  {
   "cell_type": "code",
   "execution_count": null,
   "id": "0c532a1b",
   "metadata": {},
   "outputs": [],
   "source": [
    "df_fake_manual_testing = df_fake.tail(50)\n",
    "for i in range(23480,23430, -1):\n",
    "    df_fake.drop([i], axis=0, inplace=True)\n",
    "df_true_manual_testing = df_true.tail(50)\n",
    "for i in range(21416,21366, -1):\n",
    "    df_true.drop([i], axis=0, inplace=True)"
   ]
  },
  {
   "cell_type": "code",
   "execution_count": null,
   "id": "710b5e01",
   "metadata": {},
   "outputs": [],
   "source": [
    "df_fake.shape, df_true.shape"
   ]
  },
  {
   "cell_type": "code",
   "execution_count": null,
   "id": "3fef11e2",
   "metadata": {},
   "outputs": [],
   "source": [
    "df_manual_testing = pd.concat([df_fake_manual_testing, df_true_manual_testing], axis=0)\n",
    "df_manual_testing.to_csv(\"manual_testing.csv\")"
   ]
  },
  {
   "cell_type": "code",
   "execution_count": null,
   "id": "bad3e01f",
   "metadata": {},
   "outputs": [],
   "source": [
    "df_merge = pd.concat([df_fake, df_true], axis=0)\n",
    "df_merge.head(10)"
   ]
  },
  {
   "cell_type": "code",
   "execution_count": null,
   "id": "115ae093",
   "metadata": {},
   "outputs": [],
   "source": [
    "df_merge = df_merge.sample(frac=1)"
   ]
  },
  {
   "cell_type": "code",
   "execution_count": null,
   "id": "60dc4c1c",
   "metadata": {},
   "outputs": [],
   "source": [
    "df_merge.head(10)"
   ]
  },
  {
   "cell_type": "code",
   "execution_count": null,
   "id": "9f0e8aa4",
   "metadata": {},
   "outputs": [],
   "source": [
    "df_merge.isnull().sum()"
   ]
  },
  {
   "cell_type": "code",
   "execution_count": null,
   "id": "4725f7a2",
   "metadata": {},
   "outputs": [],
   "source": [
    "def wordopt(text):\n",
    "    text = text.lower()\n",
    "    text = re.sub('\\[.*?\\]', '', text)\n",
    "    text = re.sub(\"\\\\W\",\" \",text) \n",
    "    text = re.sub('https?://\\S+|www\\.\\S+', '', text)\n",
    "    text = re.sub('<.*?>+', '', text)\n",
    "    text = re.sub('[%s]' % re.escape(string.punctuation), '', text)\n",
    "    text = re.sub('\\n', '', text)\n",
    "    text = re.sub('\\w*\\d\\w*', '', text)    \n",
    "    return text"
   ]
  },
  {
   "cell_type": "code",
   "execution_count": null,
   "id": "49ddd50d",
   "metadata": {},
   "outputs": [],
   "source": [
    "df_merge[\"text\"] = df_merge[\"text\"].apply(wordopt)"
   ]
  },
  {
   "cell_type": "code",
   "execution_count": null,
   "id": "99e33e5f",
   "metadata": {},
   "outputs": [],
   "source": [
    "df_merge.head(10)"
   ]
  },
  {
   "cell_type": "code",
   "execution_count": null,
   "id": "ade3ae20",
   "metadata": {},
   "outputs": [],
   "source": [
    "x = df_merge[\"text\"]\n",
    "y = df_merge[\"class\"]"
   ]
  },
  {
   "cell_type": "code",
   "execution_count": null,
   "id": "90a6a2a2",
   "metadata": {},
   "outputs": [],
   "source": [
    "x_train, x_test, y_train, y_test = train_test_split(x, y, test_size=0.5, random_state= RANDOM_SEED)"
   ]
  },
  {
   "cell_type": "code",
   "execution_count": null,
   "id": "8cf2703d",
   "metadata": {},
   "outputs": [],
   "source": [
    "from sklearn.feature_extraction.text import TfidfVectorizer\n",
    "model = SentenceTransformer('paraphrase-MiniLM-L6-v2')"
   ]
  },
  {
   "cell_type": "code",
   "execution_count": null,
   "id": "7da757e3",
   "metadata": {},
   "outputs": [],
   "source": [
    "vectorization = TfidfVectorizer()\n",
    "xv_train = vectorization.fit_transform(x_train.values.astype('U'))\n",
    "xv_test = vectorization.transform(x_test.values.astype('U'))"
   ]
  },
  {
   "cell_type": "code",
   "execution_count": null,
   "id": "1b7249ff",
   "metadata": {},
   "outputs": [],
   "source": [
    "from sentence_transformers import SentenceTransformer\n",
    "model = SentenceTransformer('paraphrase-MiniLM-L6-v2')"
   ]
  },
  {
   "cell_type": "code",
   "execution_count": null,
   "id": "fe8e1d59",
   "metadata": {},
   "outputs": [],
   "source": [
    "xv_train1 = model.encode(x_train.values.astype('U'))\n",
    "xv_test1 = model.encode(x_test.values.astype('U'))"
   ]
  },
  {
   "cell_type": "markdown",
   "id": "401b7b81",
   "metadata": {},
   "source": [
    "##### Logistic Regression TF-IDF"
   ]
  },
  {
   "cell_type": "code",
   "execution_count": 92,
   "id": "624c3db8",
   "metadata": {},
   "outputs": [],
   "source": [
    "from sklearn.linear_model import LogisticRegression"
   ]
  },
  {
   "cell_type": "code",
   "execution_count": 93,
   "id": "1be26a8f",
   "metadata": {},
   "outputs": [
    {
     "data": {
      "text/plain": [
       "LogisticRegression()"
      ]
     },
     "execution_count": 93,
     "metadata": {},
     "output_type": "execute_result"
    }
   ],
   "source": [
    "LR = LogisticRegression()\n",
    "LR.fit(xv_train,y_train)"
   ]
  },
  {
   "cell_type": "code",
   "execution_count": 94,
   "id": "1704cfec",
   "metadata": {},
   "outputs": [
    {
     "data": {
      "text/plain": [
       "0.8994488671157379"
      ]
     },
     "execution_count": 94,
     "metadata": {},
     "output_type": "execute_result"
    }
   ],
   "source": [
    "LR.score(xv_test, y_test)"
   ]
  },
  {
   "cell_type": "code",
   "execution_count": 95,
   "id": "dc02fa27",
   "metadata": {},
   "outputs": [],
   "source": [
    "pred_lr=LR.predict(xv_test)"
   ]
  },
  {
   "cell_type": "code",
   "execution_count": 96,
   "id": "dca672f7",
   "metadata": {},
   "outputs": [
    {
     "name": "stdout",
     "output_type": "stream",
     "text": [
      "              precision    recall  f1-score   support\n",
      "\n",
      "           0       0.90      0.89      0.90     11932\n",
      "           1       0.90      0.91      0.90     12563\n",
      "\n",
      "    accuracy                           0.90     24495\n",
      "   macro avg       0.90      0.90      0.90     24495\n",
      "weighted avg       0.90      0.90      0.90     24495\n",
      "\n"
     ]
    }
   ],
   "source": [
    "print(classification_report(y_test, pred_lr))"
   ]
  },
  {
   "cell_type": "markdown",
   "id": "40230534",
   "metadata": {},
   "source": [
    "#### Logistic Regression Sbert"
   ]
  },
  {
   "cell_type": "code",
   "execution_count": 97,
   "id": "303ad2da",
   "metadata": {},
   "outputs": [],
   "source": [
    "from sklearn.linear_model import LogisticRegression"
   ]
  },
  {
   "cell_type": "code",
   "execution_count": 98,
   "id": "d719c222",
   "metadata": {},
   "outputs": [
    {
     "name": "stderr",
     "output_type": "stream",
     "text": [
      "C:\\Users\\Jose Gabriel\\anaconda3\\lib\\site-packages\\sklearn\\linear_model\\_logistic.py:814: ConvergenceWarning: lbfgs failed to converge (status=1):\n",
      "STOP: TOTAL NO. of ITERATIONS REACHED LIMIT.\n",
      "\n",
      "Increase the number of iterations (max_iter) or scale the data as shown in:\n",
      "    https://scikit-learn.org/stable/modules/preprocessing.html\n",
      "Please also refer to the documentation for alternative solver options:\n",
      "    https://scikit-learn.org/stable/modules/linear_model.html#logistic-regression\n",
      "  n_iter_i = _check_optimize_result(\n"
     ]
    },
    {
     "data": {
      "text/plain": [
       "LogisticRegression()"
      ]
     },
     "execution_count": 98,
     "metadata": {},
     "output_type": "execute_result"
    }
   ],
   "source": [
    "LR = LogisticRegression()\n",
    "LR.fit(xv_train1,y_train)"
   ]
  },
  {
   "cell_type": "code",
   "execution_count": 99,
   "id": "78682990",
   "metadata": {},
   "outputs": [
    {
     "data": {
      "text/plain": [
       "0.8061645233721167"
      ]
     },
     "execution_count": 99,
     "metadata": {},
     "output_type": "execute_result"
    }
   ],
   "source": [
    "LR.score(xv_test1, y_test)"
   ]
  },
  {
   "cell_type": "code",
   "execution_count": 100,
   "id": "e8fa99d0",
   "metadata": {},
   "outputs": [],
   "source": [
    "pred_lr=LR.predict(xv_test1)"
   ]
  },
  {
   "cell_type": "code",
   "execution_count": 101,
   "id": "ca3b741d",
   "metadata": {},
   "outputs": [
    {
     "name": "stdout",
     "output_type": "stream",
     "text": [
      "              precision    recall  f1-score   support\n",
      "\n",
      "           0       0.80      0.80      0.80     11932\n",
      "           1       0.81      0.81      0.81     12563\n",
      "\n",
      "    accuracy                           0.81     24495\n",
      "   macro avg       0.81      0.81      0.81     24495\n",
      "weighted avg       0.81      0.81      0.81     24495\n",
      "\n"
     ]
    }
   ],
   "source": [
    "print(classification_report(y_test, pred_lr))"
   ]
  },
  {
   "cell_type": "markdown",
   "id": "f777d305",
   "metadata": {},
   "source": [
    "##### Decision Tree"
   ]
  },
  {
   "cell_type": "code",
   "execution_count": 102,
   "id": "c33ce800",
   "metadata": {},
   "outputs": [],
   "source": [
    "from sklearn.tree import DecisionTreeClassifier"
   ]
  },
  {
   "cell_type": "code",
   "execution_count": 103,
   "id": "5b6ed1d8",
   "metadata": {},
   "outputs": [
    {
     "data": {
      "text/plain": [
       "DecisionTreeClassifier()"
      ]
     },
     "execution_count": 103,
     "metadata": {},
     "output_type": "execute_result"
    }
   ],
   "source": [
    "DT = DecisionTreeClassifier()\n",
    "DT.fit(xv_train, y_train)"
   ]
  },
  {
   "cell_type": "code",
   "execution_count": 104,
   "id": "55cc2ab8",
   "metadata": {},
   "outputs": [],
   "source": [
    "pred_dt = DT.predict(xv_test)"
   ]
  },
  {
   "cell_type": "code",
   "execution_count": 105,
   "id": "443809a9",
   "metadata": {},
   "outputs": [
    {
     "data": {
      "text/plain": [
       "0.7425597060624617"
      ]
     },
     "execution_count": 105,
     "metadata": {},
     "output_type": "execute_result"
    }
   ],
   "source": [
    "DT.score(xv_test, y_test)"
   ]
  },
  {
   "cell_type": "code",
   "execution_count": 106,
   "id": "e0fd8890",
   "metadata": {},
   "outputs": [
    {
     "name": "stdout",
     "output_type": "stream",
     "text": [
      "              precision    recall  f1-score   support\n",
      "\n",
      "           0       0.73      0.75      0.74     11932\n",
      "           1       0.75      0.74      0.75     12563\n",
      "\n",
      "    accuracy                           0.74     24495\n",
      "   macro avg       0.74      0.74      0.74     24495\n",
      "weighted avg       0.74      0.74      0.74     24495\n",
      "\n"
     ]
    }
   ],
   "source": [
    "print(classification_report(y_test, pred_dt))"
   ]
  },
  {
   "cell_type": "markdown",
   "id": "0fe2690c",
   "metadata": {},
   "source": [
    "#### Decision Tree Sbert"
   ]
  },
  {
   "cell_type": "code",
   "execution_count": 107,
   "id": "afe1fcbc",
   "metadata": {},
   "outputs": [],
   "source": [
    "from sklearn.tree import DecisionTreeClassifier"
   ]
  },
  {
   "cell_type": "code",
   "execution_count": 108,
   "id": "d9113854",
   "metadata": {},
   "outputs": [
    {
     "data": {
      "text/plain": [
       "DecisionTreeClassifier()"
      ]
     },
     "execution_count": 108,
     "metadata": {},
     "output_type": "execute_result"
    }
   ],
   "source": [
    "DT = DecisionTreeClassifier()\n",
    "DT.fit(xv_train1, y_train)"
   ]
  },
  {
   "cell_type": "code",
   "execution_count": 109,
   "id": "c5bb8ada",
   "metadata": {},
   "outputs": [],
   "source": [
    "pred_dt = DT.predict(xv_test1)"
   ]
  },
  {
   "cell_type": "code",
   "execution_count": 110,
   "id": "0c6633a9",
   "metadata": {},
   "outputs": [
    {
     "data": {
      "text/plain": [
       "0.6785466421718718"
      ]
     },
     "execution_count": 110,
     "metadata": {},
     "output_type": "execute_result"
    }
   ],
   "source": [
    "DT.score(xv_test1, y_test)"
   ]
  },
  {
   "cell_type": "code",
   "execution_count": 111,
   "id": "d401d5a6",
   "metadata": {},
   "outputs": [
    {
     "name": "stdout",
     "output_type": "stream",
     "text": [
      "              precision    recall  f1-score   support\n",
      "\n",
      "           0       0.66      0.69      0.68     11932\n",
      "           1       0.69      0.67      0.68     12563\n",
      "\n",
      "    accuracy                           0.68     24495\n",
      "   macro avg       0.68      0.68      0.68     24495\n",
      "weighted avg       0.68      0.68      0.68     24495\n",
      "\n"
     ]
    }
   ],
   "source": [
    "print(classification_report(y_test, pred_dt))"
   ]
  },
  {
   "cell_type": "markdown",
   "id": "57756d8e",
   "metadata": {},
   "source": [
    "##### Gradient Boosting"
   ]
  },
  {
   "cell_type": "code",
   "execution_count": 112,
   "id": "d75622c6",
   "metadata": {},
   "outputs": [],
   "source": [
    "from sklearn.ensemble import GradientBoostingClassifier"
   ]
  },
  {
   "cell_type": "code",
   "execution_count": 113,
   "id": "c750ae5a",
   "metadata": {},
   "outputs": [
    {
     "data": {
      "text/plain": [
       "GradientBoostingClassifier(random_state=1)"
      ]
     },
     "execution_count": 113,
     "metadata": {},
     "output_type": "execute_result"
    }
   ],
   "source": [
    "GBC = GradientBoostingClassifier(random_state=1)\n",
    "GBC.fit(xv_train, y_train)"
   ]
  },
  {
   "cell_type": "code",
   "execution_count": 114,
   "id": "cb725542",
   "metadata": {},
   "outputs": [],
   "source": [
    "pred_gbc = GBC.predict(xv_test)"
   ]
  },
  {
   "cell_type": "code",
   "execution_count": 115,
   "id": "fd5512a6",
   "metadata": {},
   "outputs": [
    {
     "data": {
      "text/plain": [
       "0.8120840987956726"
      ]
     },
     "execution_count": 115,
     "metadata": {},
     "output_type": "execute_result"
    }
   ],
   "source": [
    "GBC.score(xv_test, y_test)"
   ]
  },
  {
   "cell_type": "code",
   "execution_count": 116,
   "id": "81dd1cb9",
   "metadata": {},
   "outputs": [
    {
     "name": "stdout",
     "output_type": "stream",
     "text": [
      "              precision    recall  f1-score   support\n",
      "\n",
      "           0       0.84      0.76      0.80     11932\n",
      "           1       0.79      0.87      0.83     12563\n",
      "\n",
      "    accuracy                           0.81     24495\n",
      "   macro avg       0.82      0.81      0.81     24495\n",
      "weighted avg       0.81      0.81      0.81     24495\n",
      "\n"
     ]
    }
   ],
   "source": [
    "print(classification_report(y_test, pred_gbc))"
   ]
  },
  {
   "cell_type": "markdown",
   "id": "7f9d1f01",
   "metadata": {},
   "source": [
    "#### Gradient Boosting Sbert"
   ]
  },
  {
   "cell_type": "code",
   "execution_count": 117,
   "id": "2b291b31",
   "metadata": {},
   "outputs": [],
   "source": [
    "from sklearn.ensemble import GradientBoostingClassifier"
   ]
  },
  {
   "cell_type": "code",
   "execution_count": 118,
   "id": "c8466eca",
   "metadata": {},
   "outputs": [
    {
     "data": {
      "text/plain": [
       "GradientBoostingClassifier(random_state=0)"
      ]
     },
     "execution_count": 118,
     "metadata": {},
     "output_type": "execute_result"
    }
   ],
   "source": [
    "GBC = GradientBoostingClassifier(random_state=0)\n",
    "GBC.fit(xv_train1, y_train)"
   ]
  },
  {
   "cell_type": "code",
   "execution_count": 119,
   "id": "80d762b9",
   "metadata": {},
   "outputs": [],
   "source": [
    "pred_gbc = GBC.predict(xv_test1)"
   ]
  },
  {
   "cell_type": "code",
   "execution_count": 120,
   "id": "ce39e959",
   "metadata": {},
   "outputs": [
    {
     "data": {
      "text/plain": [
       "0.7886507450500102"
      ]
     },
     "execution_count": 120,
     "metadata": {},
     "output_type": "execute_result"
    }
   ],
   "source": [
    "GBC.score(xv_test1, y_test)"
   ]
  },
  {
   "cell_type": "code",
   "execution_count": 121,
   "id": "5d1e6f41",
   "metadata": {},
   "outputs": [
    {
     "name": "stdout",
     "output_type": "stream",
     "text": [
      "              precision    recall  f1-score   support\n",
      "\n",
      "           0       0.79      0.78      0.78     11932\n",
      "           1       0.79      0.80      0.79     12563\n",
      "\n",
      "    accuracy                           0.79     24495\n",
      "   macro avg       0.79      0.79      0.79     24495\n",
      "weighted avg       0.79      0.79      0.79     24495\n",
      "\n"
     ]
    }
   ],
   "source": [
    "print(classification_report(y_test, pred_gbc))"
   ]
  },
  {
   "cell_type": "markdown",
   "id": "229fafac",
   "metadata": {},
   "source": [
    "##### Random Forest Classifier "
   ]
  },
  {
   "cell_type": "code",
   "execution_count": 122,
   "id": "dbd8c4e6",
   "metadata": {},
   "outputs": [],
   "source": [
    "from sklearn.ensemble import RandomForestClassifier"
   ]
  },
  {
   "cell_type": "code",
   "execution_count": 123,
   "id": "7674639e",
   "metadata": {},
   "outputs": [
    {
     "data": {
      "text/plain": [
       "RandomForestClassifier(random_state=1)"
      ]
     },
     "execution_count": 123,
     "metadata": {},
     "output_type": "execute_result"
    }
   ],
   "source": [
    "RFC = RandomForestClassifier(random_state=1)\n",
    "RFC.fit(xv_train, y_train)"
   ]
  },
  {
   "cell_type": "code",
   "execution_count": 124,
   "id": "487b04f8",
   "metadata": {},
   "outputs": [],
   "source": [
    "pred_rfc = RFC.predict(xv_test)"
   ]
  },
  {
   "cell_type": "code",
   "execution_count": 125,
   "id": "47081476",
   "metadata": {},
   "outputs": [
    {
     "data": {
      "text/plain": [
       "0.8576444172280057"
      ]
     },
     "execution_count": 125,
     "metadata": {},
     "output_type": "execute_result"
    }
   ],
   "source": [
    "RFC.score(xv_test, y_test)"
   ]
  },
  {
   "cell_type": "code",
   "execution_count": 126,
   "id": "b099ef7e",
   "metadata": {},
   "outputs": [
    {
     "name": "stdout",
     "output_type": "stream",
     "text": [
      "              precision    recall  f1-score   support\n",
      "\n",
      "           0       0.89      0.81      0.85     11932\n",
      "           1       0.83      0.90      0.87     12563\n",
      "\n",
      "    accuracy                           0.86     24495\n",
      "   macro avg       0.86      0.86      0.86     24495\n",
      "weighted avg       0.86      0.86      0.86     24495\n",
      "\n"
     ]
    }
   ],
   "source": [
    "print(classification_report(y_test, pred_rfc))"
   ]
  },
  {
   "cell_type": "markdown",
   "id": "35e0d841",
   "metadata": {},
   "source": [
    "#### Random Forest Classifier Sbert "
   ]
  },
  {
   "cell_type": "code",
   "execution_count": 127,
   "id": "6fe2ea68",
   "metadata": {},
   "outputs": [],
   "source": [
    "from sklearn.ensemble import RandomForestClassifier"
   ]
  },
  {
   "cell_type": "code",
   "execution_count": 128,
   "id": "20d38fc9",
   "metadata": {},
   "outputs": [
    {
     "data": {
      "text/plain": [
       "RandomForestClassifier(random_state=0)"
      ]
     },
     "execution_count": 128,
     "metadata": {},
     "output_type": "execute_result"
    }
   ],
   "source": [
    "RFC = RandomForestClassifier(random_state=0)\n",
    "RFC.fit(xv_train1, y_train)"
   ]
  },
  {
   "cell_type": "code",
   "execution_count": 129,
   "id": "c2632cef",
   "metadata": {},
   "outputs": [],
   "source": [
    "pred_rfc = RFC.predict(xv_test1)"
   ]
  },
  {
   "cell_type": "code",
   "execution_count": 130,
   "id": "77383586",
   "metadata": {},
   "outputs": [
    {
     "data": {
      "text/plain": [
       "0.7988977342314758"
      ]
     },
     "execution_count": 130,
     "metadata": {},
     "output_type": "execute_result"
    }
   ],
   "source": [
    "RFC.score(xv_test1, y_test)"
   ]
  },
  {
   "cell_type": "code",
   "execution_count": 131,
   "id": "1e2e297b",
   "metadata": {},
   "outputs": [
    {
     "name": "stdout",
     "output_type": "stream",
     "text": [
      "              precision    recall  f1-score   support\n",
      "\n",
      "           0       0.83      0.74      0.78     11932\n",
      "           1       0.78      0.85      0.81     12563\n",
      "\n",
      "    accuracy                           0.80     24495\n",
      "   macro avg       0.80      0.80      0.80     24495\n",
      "weighted avg       0.80      0.80      0.80     24495\n",
      "\n"
     ]
    }
   ],
   "source": [
    "print(classification_report(y_test, pred_rfc))"
   ]
  },
  {
   "cell_type": "markdown",
   "id": "95080287",
   "metadata": {},
   "source": [
    "#### AdaBoosting "
   ]
  },
  {
   "cell_type": "code",
   "execution_count": 81,
   "id": "6dfff064",
   "metadata": {},
   "outputs": [],
   "source": [
    "from sklearn.ensemble import AdaBoostClassifier"
   ]
  },
  {
   "cell_type": "code",
   "execution_count": 82,
   "id": "a84c3dc1",
   "metadata": {},
   "outputs": [
    {
     "data": {
      "text/plain": [
       "AdaBoostClassifier(random_state=1)"
      ]
     },
     "execution_count": 82,
     "metadata": {},
     "output_type": "execute_result"
    }
   ],
   "source": [
    "ADB= AdaBoostClassifier(random_state=1)\n",
    "ADB.fit(xv_train, y_train)"
   ]
  },
  {
   "cell_type": "code",
   "execution_count": 83,
   "id": "6d06ae3d",
   "metadata": {},
   "outputs": [],
   "source": [
    "pred_ADB = ADB.predict(xv_test)"
   ]
  },
  {
   "cell_type": "code",
   "execution_count": 84,
   "id": "9196e87a",
   "metadata": {},
   "outputs": [
    {
     "data": {
      "text/plain": [
       "0.7983670136762605"
      ]
     },
     "execution_count": 84,
     "metadata": {},
     "output_type": "execute_result"
    }
   ],
   "source": [
    "ADB.score(xv_test, y_test)"
   ]
  },
  {
   "cell_type": "code",
   "execution_count": 85,
   "id": "4c0906f5",
   "metadata": {},
   "outputs": [
    {
     "name": "stdout",
     "output_type": "stream",
     "text": [
      "              precision    recall  f1-score   support\n",
      "\n",
      "           0       0.81      0.76      0.79     11932\n",
      "           1       0.79      0.83      0.81     12563\n",
      "\n",
      "    accuracy                           0.80     24495\n",
      "   macro avg       0.80      0.80      0.80     24495\n",
      "weighted avg       0.80      0.80      0.80     24495\n",
      "\n"
     ]
    }
   ],
   "source": [
    "print(classification_report(y_test, pred_ADB))"
   ]
  },
  {
   "cell_type": "markdown",
   "id": "2f087315",
   "metadata": {},
   "source": [
    "#### Adaboosting Sbert"
   ]
  },
  {
   "cell_type": "code",
   "execution_count": 87,
   "id": "4a5d4be8",
   "metadata": {},
   "outputs": [],
   "source": [
    "from sklearn.ensemble import AdaBoostClassifier"
   ]
  },
  {
   "cell_type": "code",
   "execution_count": 88,
   "id": "acbb8ca9",
   "metadata": {},
   "outputs": [
    {
     "data": {
      "text/plain": [
       "AdaBoostClassifier(random_state=1)"
      ]
     },
     "execution_count": 88,
     "metadata": {},
     "output_type": "execute_result"
    }
   ],
   "source": [
    "ADB= AdaBoostClassifier(random_state=1)\n",
    "ADB.fit(xv_train1, y_train)"
   ]
  },
  {
   "cell_type": "code",
   "execution_count": 89,
   "id": "0ff00e62",
   "metadata": {},
   "outputs": [],
   "source": [
    "pred_ADB = ADB.predict(xv_test1)"
   ]
  },
  {
   "cell_type": "code",
   "execution_count": 90,
   "id": "ec40aabf",
   "metadata": {},
   "outputs": [
    {
     "data": {
      "text/plain": [
       "0.7552969993876302"
      ]
     },
     "execution_count": 90,
     "metadata": {},
     "output_type": "execute_result"
    }
   ],
   "source": [
    "ADB.score(xv_test1, y_test)"
   ]
  },
  {
   "cell_type": "code",
   "execution_count": 91,
   "id": "3bc30334",
   "metadata": {},
   "outputs": [
    {
     "name": "stdout",
     "output_type": "stream",
     "text": [
      "              precision    recall  f1-score   support\n",
      "\n",
      "           0       0.75      0.75      0.75     11932\n",
      "           1       0.76      0.76      0.76     12563\n",
      "\n",
      "    accuracy                           0.76     24495\n",
      "   macro avg       0.76      0.76      0.76     24495\n",
      "weighted avg       0.76      0.76      0.76     24495\n",
      "\n"
     ]
    }
   ],
   "source": [
    "print(classification_report(y_test, pred_ADB))"
   ]
  }
 ],
 "metadata": {
  "kernelspec": {
   "display_name": "Python 3 (ipykernel)",
   "language": "python",
   "name": "python3"
  },
  "language_info": {
   "codemirror_mode": {
    "name": "ipython",
    "version": 3
   },
   "file_extension": ".py",
   "mimetype": "text/x-python",
   "name": "python",
   "nbconvert_exporter": "python",
   "pygments_lexer": "ipython3",
   "version": "3.9.12"
  }
 },
 "nbformat": 4,
 "nbformat_minor": 5
}
