{
 "cells": [
  {
   "cell_type": "code",
   "execution_count": 33,
   "metadata": {},
   "outputs": [],
   "source": [
    "import pandas as pd\n",
    "from sklearn.feature_extraction.text import TfidfVectorizer\n",
    "from sklearn.feature_extraction.text import CountVectorizer\n",
    "from sklearn.ensemble import (RandomForestClassifier,GradientBoostingClassifier,AdaBoostClassifier)\n",
    "from sklearn.metrics import accuracy_score\n",
    "from sklearn.model_selection import cross_val_score\n",
    "from sklearn.model_selection import train_test_split"
   ]
  },
  {
   "cell_type": "code",
   "execution_count": 34,
   "metadata": {},
   "outputs": [],
   "source": [
    "def preprocess_data(train, test, vectorizer):\n",
    "    train_bow = vectorizer.fit_transform(train['text'])\n",
    "    test_bow = vectorizer.transform(test['text'])\n",
    "    print(\"Shape of train matrix : \",train_bow.shape)\n",
    "    print(\"Shape of test matrix : \",test_bow.shape) \n",
    "\n",
    "    X_tr = train_bow\n",
    "    y_tr = train['label']\n",
    "    X_ts = test_bow\n",
    "    y_ts = test['label']\n",
    "    return X_tr, y_tr, X_ts, y_ts"
   ]
  },
  {
   "cell_type": "code",
   "execution_count": 35,
   "metadata": {},
   "outputs": [],
   "source": [
    "def train_models(X_tr, y_tr, X_ts, y_ts, models):\n",
    "    for model in models:\n",
    "        score = cross_val_score(model, X_tr, y_tr, cv=5)\n",
    "        msg = (\"{0}:\\n\\tMean accuracy on development set\\t= {1:.3f} \"\n",
    "            \"(+/- {2:.3f})\".format(model.__class__.__name__,\n",
    "                                    score.mean(),\n",
    "                                    score.std()))\n",
    "        print(msg)\n",
    "        \n",
    "        model.fit(X_tr, y_tr)\n",
    "        pred_eval = model.predict(X_ts)\n",
    "        acc_eval = accuracy_score(y_ts, pred_eval)\n",
    "        print(\"\\tAccuracy on evaluation set\\t\\t= {0:.3f}\".format(acc_eval))\n",
    "        print(\"Probability: \")\n",
    "        proba = model.predict_proba(X_ts)\n",
    "        print(proba)\n"
   ]
  },
  {
   "cell_type": "code",
   "execution_count": 36,
   "metadata": {},
   "outputs": [],
   "source": [
    "df = pd.read_csv('preprocessing/data.csv', encoding='latin')\n",
    "train, test = train_test_split(df, test_size=0.995, random_state=1)"
   ]
  },
  {
   "cell_type": "code",
   "execution_count": 37,
   "metadata": {},
   "outputs": [],
   "source": [
    "ensamble_models = [ RandomForestClassifier(random_state=1),\n",
    "                    GradientBoostingClassifier(random_state=1),\n",
    "                    AdaBoostClassifier(random_state=1)  ]"
   ]
  },
  {
   "cell_type": "code",
   "execution_count": 38,
   "metadata": {},
   "outputs": [
    {
     "name": "stdout",
     "output_type": "stream",
     "text": [
      "Shape of train matrix :  (224, 10670)\n",
      "Shape of test matrix :  (44674, 10670)\n",
      "RandomForestClassifier:\n",
      "\tMean accuracy on development set\t= 0.933 (+/- 0.040)\n",
      "\tAccuracy on evaluation set\t\t= 0.972\n",
      "Probability: \n",
      "[[0.28 0.72]\n",
      " [0.77 0.23]\n",
      " [0.3  0.7 ]\n",
      " ...\n",
      " [0.82 0.18]\n",
      " [0.27 0.73]\n",
      " [0.15 0.85]]\n",
      "GradientBoostingClassifier:\n",
      "\tMean accuracy on development set\t= 0.996 (+/- 0.009)\n",
      "\tAccuracy on evaluation set\t\t= 0.992\n",
      "Probability: \n",
      "[[2.09721338e-05 9.99979028e-01]\n",
      " [9.99977176e-01 2.28243609e-05]\n",
      " [2.09721338e-05 9.99979028e-01]\n",
      " ...\n",
      " [9.99977176e-01 2.28243609e-05]\n",
      " [2.09721338e-05 9.99979028e-01]\n",
      " [2.09721338e-05 9.99979028e-01]]\n",
      "AdaBoostClassifier:\n",
      "\tMean accuracy on development set\t= 0.996 (+/- 0.009)\n",
      "\tAccuracy on evaluation set\t\t= 0.992\n",
      "Probability: \n",
      "[[3.53049587e-07 9.99999647e-01]\n",
      " [9.99993409e-01 6.59111869e-06]\n",
      " [6.85570259e-06 9.99993144e-01]\n",
      " ...\n",
      " [9.99993409e-01 6.59111869e-06]\n",
      " [1.45952926e-07 9.99999854e-01]\n",
      " [9.23669317e-07 9.99999076e-01]]\n"
     ]
    }
   ],
   "source": [
    "countVectorizer = CountVectorizer()\n",
    "X_tr, y_tr, X_ts, y_ts = preprocess_data(train, test, countVectorizer)\n",
    "\n",
    "train_models(X_tr, y_tr, X_ts, y_ts, ensamble_models)"
   ]
  },
  {
   "cell_type": "code",
   "execution_count": 39,
   "metadata": {},
   "outputs": [
    {
     "name": "stdout",
     "output_type": "stream",
     "text": [
      "Shape of train matrix :  (224, 10670)\n",
      "Shape of test matrix :  (44674, 10670)\n",
      "RandomForestClassifier:\n",
      "\tMean accuracy on development set\t= 0.969 (+/- 0.023)\n",
      "\tAccuracy on evaluation set\t\t= 0.968\n",
      "Probability: \n",
      "[[0.24 0.76]\n",
      " [0.66 0.34]\n",
      " [0.37 0.63]\n",
      " ...\n",
      " [0.83 0.17]\n",
      " [0.36 0.64]\n",
      " [0.16 0.84]]\n",
      "GradientBoostingClassifier:\n",
      "\tMean accuracy on development set\t= 0.996 (+/- 0.009)\n",
      "\tAccuracy on evaluation set\t\t= 0.992\n",
      "Probability: \n",
      "[[2.09721338e-05 9.99979028e-01]\n",
      " [9.99977176e-01 2.28243609e-05]\n",
      " [2.09721338e-05 9.99979028e-01]\n",
      " ...\n",
      " [9.99977176e-01 2.28243609e-05]\n",
      " [2.09721338e-05 9.99979028e-01]\n",
      " [2.09721338e-05 9.99979028e-01]]\n",
      "AdaBoostClassifier:\n",
      "\tMean accuracy on development set\t= 0.996 (+/- 0.009)\n",
      "\tAccuracy on evaluation set\t\t= 0.992\n",
      "Probability: \n",
      "[[1.34170697e-07 9.99999866e-01]\n",
      " [9.99993466e-01 6.53406908e-06]\n",
      " [6.97380998e-06 9.99993026e-01]\n",
      " ...\n",
      " [9.99993466e-01 6.53406908e-06]\n",
      " [1.01829793e-06 9.99998982e-01]\n",
      " [3.58806957e-07 9.99999641e-01]]\n"
     ]
    }
   ],
   "source": [
    "tfidfVectorizer = TfidfVectorizer()\n",
    "X_tr, y_tr, X_ts, y_ts = preprocess_data(train, test, tfidfVectorizer)\n",
    "\n",
    "train_models(X_tr, y_tr, X_ts, y_ts, ensamble_models)"
   ]
  }
 ],
 "metadata": {
  "interpreter": {
   "hash": "0250550d6d548e4e5a6cdc83ec66018a6064bd14f2654c3f43a648b49f3a281d"
  },
  "kernelspec": {
   "display_name": "venv",
   "language": "python",
   "name": "python3"
  },
  "language_info": {
   "codemirror_mode": {
    "name": "ipython",
    "version": 3
   },
   "file_extension": ".py",
   "mimetype": "text/x-python",
   "name": "python",
   "nbconvert_exporter": "python",
   "pygments_lexer": "ipython3",
   "version": "3.8.10"
  },
  "orig_nbformat": 4
 },
 "nbformat": 4,
 "nbformat_minor": 2
}
