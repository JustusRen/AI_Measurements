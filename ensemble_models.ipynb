{
 "cells": [
  {
   "cell_type": "code",
   "execution_count": 37,
   "metadata": {},
   "outputs": [],
   "source": [
    "import pandas as pd\n",
    "from sklearn.feature_extraction.text import TfidfVectorizer\n",
    "from sklearn.feature_extraction.text import CountVectorizer\n",
    "from sklearn.ensemble import (RandomForestClassifier,GradientBoostingClassifier,AdaBoostClassifier)\n",
    "from sklearn.linear_model import LogisticRegression\n",
    "from sklearn.tree import DecisionTreeClassifier\n",
    "from sklearn.metrics import accuracy_score\n",
    "from sklearn.model_selection import cross_val_score\n",
    "from sklearn.model_selection import train_test_split\n",
    "from common import *\n",
    "import os\n",
    "from sklearn.metrics import classification_report\n",
    "import tarfile\n",
    "import glob\n",
    "from sentence_transformers import SentenceTransformer"
   ]
  },
  {
   "cell_type": "code",
   "execution_count": 38,
   "metadata": {},
   "outputs": [
    {
     "data": {
      "text/plain": [
       "'if not os.path.exists(\\'data.csv\\'):\\n    if not os.path.exists(\\'Fake.csv\\') and not os.path.exists(\\'True.csv\\'):\\n        download_data()\\n    label_data(\\'Fake.csv\\', \\'fake_labeled.csv\\', 1)\\n    label_data(\\'True.csv\\', \\'true_labeled.csv\\', 0)\\n    os.system(\"awk \\'(NR == 1) || (FNR > 1)\\' *labeled.csv > data.csv\")'"
      ]
     },
     "execution_count": 38,
     "metadata": {},
     "output_type": "execute_result"
    }
   ],
   "source": [
    "\"\"\"if not os.path.exists('data.csv'):\n",
    "    if not os.path.exists('Fake.csv') and not os.path.exists('True.csv'):\n",
    "        download_data()\n",
    "    label_data('Fake.csv', 'fake_labeled.csv', 1)\n",
    "    label_data('True.csv', 'true_labeled.csv', 0)\n",
    "    os.system(\"awk '(NR == 1) || (FNR > 1)' *labeled.csv > data.csv\")\"\"\""
   ]
  },
  {
   "cell_type": "code",
   "execution_count": 39,
   "metadata": {},
   "outputs": [
    {
     "data": {
      "text/plain": [
       "\"df = pd.read_csv('data.csv', usecols=['text', 'label'], encoding='utf-8')\\ndf = df.sample(n=NUM_SAMPLES, random_state=RANDOM_SEED)\\ndf.head()\""
      ]
     },
     "execution_count": 39,
     "metadata": {},
     "output_type": "execute_result"
    }
   ],
   "source": [
    "\"\"\"df = pd.read_csv('data.csv', usecols=['text', 'label'], encoding='utf-8')\n",
    "df = df.sample(n=NUM_SAMPLES, random_state=RANDOM_SEED)\n",
    "df.head()\"\"\""
   ]
  },
  {
   "cell_type": "code",
   "execution_count": 40,
   "metadata": {},
   "outputs": [
    {
     "name": "stdout",
     "output_type": "stream",
     "text": [
      "Size of dataset: 100000\n"
     ]
    },
    {
     "data": {
      "text/html": [
       "<div>\n",
       "<style scoped>\n",
       "    .dataframe tbody tr th:only-of-type {\n",
       "        vertical-align: middle;\n",
       "    }\n",
       "\n",
       "    .dataframe tbody tr th {\n",
       "        vertical-align: top;\n",
       "    }\n",
       "\n",
       "    .dataframe thead th {\n",
       "        text-align: right;\n",
       "    }\n",
       "</style>\n",
       "<table border=\"1\" class=\"dataframe\">\n",
       "  <thead>\n",
       "    <tr style=\"text-align: right;\">\n",
       "      <th></th>\n",
       "      <th>text</th>\n",
       "      <th>label</th>\n",
       "    </tr>\n",
       "  </thead>\n",
       "  <tbody>\n",
       "    <tr>\n",
       "      <th>0</th>\n",
       "      <td>Tromeo and Juliet is perhaps the best Shakespe...</td>\n",
       "      <td>1</td>\n",
       "    </tr>\n",
       "    <tr>\n",
       "      <th>1</th>\n",
       "      <td>The book \"The Railway Children\" is a children'...</td>\n",
       "      <td>1</td>\n",
       "    </tr>\n",
       "    <tr>\n",
       "      <th>2</th>\n",
       "      <td>If you're into alternate realities, contemplat...</td>\n",
       "      <td>1</td>\n",
       "    </tr>\n",
       "    <tr>\n",
       "      <th>3</th>\n",
       "      <td>If not the best movie ever made, \"Babette's Fe...</td>\n",
       "      <td>1</td>\n",
       "    </tr>\n",
       "    <tr>\n",
       "      <th>4</th>\n",
       "      <td>SPOILERS BELOW&lt;br /&gt;&lt;br /&gt;`A Dog's Life' was m...</td>\n",
       "      <td>1</td>\n",
       "    </tr>\n",
       "  </tbody>\n",
       "</table>\n",
       "</div>"
      ],
      "text/plain": [
       "                                                text  label\n",
       "0  Tromeo and Juliet is perhaps the best Shakespe...      1\n",
       "1  The book \"The Railway Children\" is a children'...      1\n",
       "2  If you're into alternate realities, contemplat...      1\n",
       "3  If not the best movie ever made, \"Babette's Fe...      1\n",
       "4  SPOILERS BELOW<br /><br />`A Dog's Life' was m...      1"
      ]
     },
     "execution_count": 40,
     "metadata": {},
     "output_type": "execute_result"
    }
   ],
   "source": [
    "if not os.path.exists('aclImdb'):\n",
    "    if not os.path.exists('aclImdb_v1.tar.gz'):\n",
    "        files = download_data()\n",
    "    else:\n",
    "        files = ['aclImdb_v1.tar.gz']\n",
    "    \n",
    "    tarfile.open(files[0]).extractall()\n",
    "\n",
    "paths = glob.glob('aclImdb/**/pos/*.txt', recursive=True)\n",
    "pos_frame = get_data(paths, 1)\n",
    "paths = glob.glob('aclImdb/**/neg/*.txt', recursive=True)\n",
    "neg_frame = get_data(paths, 0)\n",
    "\n",
    "df = pd.concat([pos_frame, neg_frame])\n",
    "print(f'Size of dataset: {df.size}')\n",
    "df.head()"
   ]
  },
  {
   "cell_type": "code",
   "execution_count": 41,
   "metadata": {},
   "outputs": [
    {
     "data": {
      "text/html": [
       "<div>\n",
       "<style scoped>\n",
       "    .dataframe tbody tr th:only-of-type {\n",
       "        vertical-align: middle;\n",
       "    }\n",
       "\n",
       "    .dataframe tbody tr th {\n",
       "        vertical-align: top;\n",
       "    }\n",
       "\n",
       "    .dataframe thead th {\n",
       "        text-align: right;\n",
       "    }\n",
       "</style>\n",
       "<table border=\"1\" class=\"dataframe\">\n",
       "  <thead>\n",
       "    <tr style=\"text-align: right;\">\n",
       "      <th></th>\n",
       "      <th>text</th>\n",
       "      <th>label</th>\n",
       "    </tr>\n",
       "  </thead>\n",
       "  <tbody>\n",
       "    <tr>\n",
       "      <th>1247</th>\n",
       "      <td>As a kid, this movie scared me green. As an ad...</td>\n",
       "      <td>0</td>\n",
       "    </tr>\n",
       "    <tr>\n",
       "      <th>10067</th>\n",
       "      <td>It is a movie which sheds the light on the beg...</td>\n",
       "      <td>0</td>\n",
       "    </tr>\n",
       "    <tr>\n",
       "      <th>9590</th>\n",
       "      <td>Talk about being boring!&lt;br /&gt;&lt;br /&gt;I got this...</td>\n",
       "      <td>0</td>\n",
       "    </tr>\n",
       "    <tr>\n",
       "      <th>16668</th>\n",
       "      <td>One of Disney's best films that I can enjoy wa...</td>\n",
       "      <td>1</td>\n",
       "    </tr>\n",
       "    <tr>\n",
       "      <th>12196</th>\n",
       "      <td>Being a bit of a connoisseur of garbage, I hav...</td>\n",
       "      <td>1</td>\n",
       "    </tr>\n",
       "  </tbody>\n",
       "</table>\n",
       "</div>"
      ],
      "text/plain": [
       "                                                    text  label\n",
       "1247   As a kid, this movie scared me green. As an ad...      0\n",
       "10067  It is a movie which sheds the light on the beg...      0\n",
       "9590   Talk about being boring!<br /><br />I got this...      0\n",
       "16668  One of Disney's best films that I can enjoy wa...      1\n",
       "12196  Being a bit of a connoisseur of garbage, I hav...      1"
      ]
     },
     "execution_count": 41,
     "metadata": {},
     "output_type": "execute_result"
    }
   ],
   "source": [
    "df = df.sample(n=NUM_SAMPLES, random_state=RANDOM_SEED)\n",
    "df.head()"
   ]
  },
  {
   "cell_type": "code",
   "execution_count": 42,
   "metadata": {},
   "outputs": [],
   "source": [
    "def train_models(X_tr, y_tr, X_ts, y_ts, models):\n",
    "    for model in models:\n",
    "       \n",
    "        # print(\"Probability: \")\n",
    "        # proba = model.predict_proba(X_ts)\n",
    "        # print(proba)\n",
    "\n",
    "        score = cross_val_score(model, X_tr, y_tr, cv=5)\n",
    "        msg = (\"{0}:\\n\\tMean accuracy on development set\\t= {1:.3f} \"\n",
    "            \"(+/- {2:.3f})\".format(model.__class__.__name__,\n",
    "                                    score.mean(),\n",
    "                                    score.std()))\n",
    "        print(msg)\n",
    "        \n",
    "        model.fit(X_tr, y_tr)\n",
    "        pred_eval = model.predict(X_ts)\n",
    "        acc_eval = accuracy_score(y_ts, pred_eval)\n",
    "        print(\"\\tAccuracy on evaluation set\\t\\t= {0:.3f}\".format(acc_eval))\n",
    "        # print(classification_report(y_ts, pred_eval))"
   ]
  },
  {
   "cell_type": "code",
   "execution_count": 43,
   "metadata": {},
   "outputs": [],
   "source": [
    "ensamble_models = [ RandomForestClassifier(random_state=RANDOM_SEED),\n",
    "                    GradientBoostingClassifier(random_state=RANDOM_SEED),\n",
    "                    AdaBoostClassifier(random_state=RANDOM_SEED)    ]\n",
    "\n",
    "models = [  LogisticRegression(), \n",
    "            DecisionTreeClassifier()  ]"
   ]
  },
  {
   "cell_type": "code",
   "execution_count": 44,
   "metadata": {},
   "outputs": [
    {
     "name": "stdout",
     "output_type": "stream",
     "text": [
      "Train shape: (2500, 51072)\n",
      "Test shape: (2500, 51072)\n"
     ]
    }
   ],
   "source": [
    "countVectorizer = CountVectorizer()\n",
    "embeddings_countVectorizer = preprocess_data(df['text'], countVectorizer)\n",
    "\n",
    "X_tr, X_ts, y_tr, y_ts= train_test_split(embeddings_countVectorizer, df['label'], test_size=TEST_SIZE, random_state=RANDOM_SEED)\n",
    "\n",
    "print(f'Train shape: {X_tr.shape}')\n",
    "print(f'Test shape: {X_ts.shape}')"
   ]
  },
  {
   "cell_type": "code",
   "execution_count": 45,
   "metadata": {},
   "outputs": [
    {
     "name": "stdout",
     "output_type": "stream",
     "text": [
      "RandomForestClassifier:\n",
      "\tMean accuracy on development set\t= 0.812 (+/- 0.012)\n",
      "\tAccuracy on evaluation set\t\t= 0.817\n",
      "GradientBoostingClassifier:\n",
      "\tMean accuracy on development set\t= 0.793 (+/- 0.012)\n",
      "\tAccuracy on evaluation set\t\t= 0.805\n",
      "AdaBoostClassifier:\n",
      "\tMean accuracy on development set\t= 0.769 (+/- 0.016)\n",
      "\tAccuracy on evaluation set\t\t= 0.778\n"
     ]
    }
   ],
   "source": [
    "train_models(X_tr, y_tr, X_ts, y_ts, ensamble_models)"
   ]
  },
  {
   "cell_type": "code",
   "execution_count": 46,
   "metadata": {},
   "outputs": [
    {
     "name": "stderr",
     "output_type": "stream",
     "text": [
      "/home/justus/MA-540-TEAM3/venv/lib/python3.8/site-packages/sklearn/linear_model/_logistic.py:814: ConvergenceWarning: lbfgs failed to converge (status=1):\n",
      "STOP: TOTAL NO. of ITERATIONS REACHED LIMIT.\n",
      "\n",
      "Increase the number of iterations (max_iter) or scale the data as shown in:\n",
      "    https://scikit-learn.org/stable/modules/preprocessing.html\n",
      "Please also refer to the documentation for alternative solver options:\n",
      "    https://scikit-learn.org/stable/modules/linear_model.html#logistic-regression\n",
      "  n_iter_i = _check_optimize_result(\n",
      "/home/justus/MA-540-TEAM3/venv/lib/python3.8/site-packages/sklearn/linear_model/_logistic.py:814: ConvergenceWarning: lbfgs failed to converge (status=1):\n",
      "STOP: TOTAL NO. of ITERATIONS REACHED LIMIT.\n",
      "\n",
      "Increase the number of iterations (max_iter) or scale the data as shown in:\n",
      "    https://scikit-learn.org/stable/modules/preprocessing.html\n",
      "Please also refer to the documentation for alternative solver options:\n",
      "    https://scikit-learn.org/stable/modules/linear_model.html#logistic-regression\n",
      "  n_iter_i = _check_optimize_result(\n",
      "/home/justus/MA-540-TEAM3/venv/lib/python3.8/site-packages/sklearn/linear_model/_logistic.py:814: ConvergenceWarning: lbfgs failed to converge (status=1):\n",
      "STOP: TOTAL NO. of ITERATIONS REACHED LIMIT.\n",
      "\n",
      "Increase the number of iterations (max_iter) or scale the data as shown in:\n",
      "    https://scikit-learn.org/stable/modules/preprocessing.html\n",
      "Please also refer to the documentation for alternative solver options:\n",
      "    https://scikit-learn.org/stable/modules/linear_model.html#logistic-regression\n",
      "  n_iter_i = _check_optimize_result(\n",
      "/home/justus/MA-540-TEAM3/venv/lib/python3.8/site-packages/sklearn/linear_model/_logistic.py:814: ConvergenceWarning: lbfgs failed to converge (status=1):\n",
      "STOP: TOTAL NO. of ITERATIONS REACHED LIMIT.\n",
      "\n",
      "Increase the number of iterations (max_iter) or scale the data as shown in:\n",
      "    https://scikit-learn.org/stable/modules/preprocessing.html\n",
      "Please also refer to the documentation for alternative solver options:\n",
      "    https://scikit-learn.org/stable/modules/linear_model.html#logistic-regression\n",
      "  n_iter_i = _check_optimize_result(\n",
      "/home/justus/MA-540-TEAM3/venv/lib/python3.8/site-packages/sklearn/linear_model/_logistic.py:814: ConvergenceWarning: lbfgs failed to converge (status=1):\n",
      "STOP: TOTAL NO. of ITERATIONS REACHED LIMIT.\n",
      "\n",
      "Increase the number of iterations (max_iter) or scale the data as shown in:\n",
      "    https://scikit-learn.org/stable/modules/preprocessing.html\n",
      "Please also refer to the documentation for alternative solver options:\n",
      "    https://scikit-learn.org/stable/modules/linear_model.html#logistic-regression\n",
      "  n_iter_i = _check_optimize_result(\n"
     ]
    },
    {
     "name": "stdout",
     "output_type": "stream",
     "text": [
      "LogisticRegression:\n",
      "\tMean accuracy on development set\t= 0.832 (+/- 0.006)\n"
     ]
    },
    {
     "name": "stderr",
     "output_type": "stream",
     "text": [
      "/home/justus/MA-540-TEAM3/venv/lib/python3.8/site-packages/sklearn/linear_model/_logistic.py:814: ConvergenceWarning: lbfgs failed to converge (status=1):\n",
      "STOP: TOTAL NO. of ITERATIONS REACHED LIMIT.\n",
      "\n",
      "Increase the number of iterations (max_iter) or scale the data as shown in:\n",
      "    https://scikit-learn.org/stable/modules/preprocessing.html\n",
      "Please also refer to the documentation for alternative solver options:\n",
      "    https://scikit-learn.org/stable/modules/linear_model.html#logistic-regression\n",
      "  n_iter_i = _check_optimize_result(\n"
     ]
    },
    {
     "name": "stdout",
     "output_type": "stream",
     "text": [
      "\tAccuracy on evaluation set\t\t= 0.839\n",
      "DecisionTreeClassifier:\n",
      "\tMean accuracy on development set\t= 0.701 (+/- 0.012)\n",
      "\tAccuracy on evaluation set\t\t= 0.694\n"
     ]
    }
   ],
   "source": [
    "train_models(X_tr, y_tr, X_ts, y_ts, models)"
   ]
  },
  {
   "cell_type": "code",
   "execution_count": 47,
   "metadata": {},
   "outputs": [
    {
     "name": "stdout",
     "output_type": "stream",
     "text": [
      "Train shape: (2500, 51072)\n",
      "Test shape: (2500, 51072)\n"
     ]
    }
   ],
   "source": [
    "tfidfVectorizer = TfidfVectorizer()\n",
    "embeddings_Tfidf = preprocess_data(df['text'], tfidfVectorizer)\n",
    "\n",
    "X_tr, X_ts, y_tr, y_ts= train_test_split(embeddings_Tfidf, df['label'], test_size=TEST_SIZE, random_state=RANDOM_SEED)\n",
    "\n",
    "print(f'Train shape: {X_tr.shape}')\n",
    "print(f'Test shape: {X_ts.shape}')"
   ]
  },
  {
   "cell_type": "code",
   "execution_count": 48,
   "metadata": {},
   "outputs": [
    {
     "name": "stdout",
     "output_type": "stream",
     "text": [
      "RandomForestClassifier:\n",
      "\tMean accuracy on development set\t= 0.788 (+/- 0.013)\n",
      "\tAccuracy on evaluation set\t\t= 0.799\n",
      "GradientBoostingClassifier:\n",
      "\tMean accuracy on development set\t= 0.782 (+/- 0.007)\n",
      "\tAccuracy on evaluation set\t\t= 0.805\n",
      "AdaBoostClassifier:\n",
      "\tMean accuracy on development set\t= 0.767 (+/- 0.013)\n",
      "\tAccuracy on evaluation set\t\t= 0.778\n"
     ]
    }
   ],
   "source": [
    "train_models(X_tr, y_tr, X_ts, y_ts, ensamble_models)"
   ]
  },
  {
   "cell_type": "code",
   "execution_count": 49,
   "metadata": {},
   "outputs": [
    {
     "name": "stdout",
     "output_type": "stream",
     "text": [
      "LogisticRegression:\n",
      "\tMean accuracy on development set\t= 0.841 (+/- 0.013)\n",
      "\tAccuracy on evaluation set\t\t= 0.850\n",
      "DecisionTreeClassifier:\n",
      "\tMean accuracy on development set\t= 0.667 (+/- 0.015)\n",
      "\tAccuracy on evaluation set\t\t= 0.685\n"
     ]
    }
   ],
   "source": [
    "train_models(X_tr, y_tr, X_ts, y_ts, models)"
   ]
  },
  {
   "cell_type": "code",
   "execution_count": 50,
   "metadata": {},
   "outputs": [
    {
     "name": "stdout",
     "output_type": "stream",
     "text": [
      "RandomForestClassifier:\n",
      "\tMean accuracy on development set\t= 0.767 (+/- 0.013)\n",
      "\tAccuracy on evaluation set\t\t= 0.773\n",
      "GradientBoostingClassifier:\n",
      "\tMean accuracy on development set\t= 0.768 (+/- 0.023)\n",
      "\tAccuracy on evaluation set\t\t= 0.767\n",
      "AdaBoostClassifier:\n",
      "\tMean accuracy on development set\t= 0.724 (+/- 0.011)\n",
      "\tAccuracy on evaluation set\t\t= 0.736\n"
     ]
    }
   ],
   "source": [
    "sbert_vectorizer = SentenceTransformer('all-MiniLM-L6-v2')\n",
    "\n",
    "df['text'] = df['text'].str.lower()\n",
    "df['text'] = df['text'].apply(\n",
    "    lambda text: text.translate(\n",
    "        str.maketrans('', '', string.punctuation)\n",
    "    )\n",
    ")\n",
    "\n",
    "X_tr, X_ts, y_tr, y_ts = train_test_split(df['text'], df['label'], test_size=TEST_SIZE, random_state=RANDOM_SEED)\n",
    "X_tr = sbert_vectorizer.encode(X_tr.values.astype('U'), normalize_embeddings=True)\n",
    "X_ts = sbert_vectorizer.encode(X_ts.values.astype('U'), normalize_embeddings=True)\n",
    "\n",
    "train_models(X_tr, y_tr, X_ts, y_ts, ensamble_models)\n"
   ]
  },
  {
   "cell_type": "code",
   "execution_count": 51,
   "metadata": {},
   "outputs": [
    {
     "name": "stdout",
     "output_type": "stream",
     "text": [
      "LogisticRegression:\n",
      "\tMean accuracy on development set\t= 0.808 (+/- 0.017)\n",
      "\tAccuracy on evaluation set\t\t= 0.808\n",
      "DecisionTreeClassifier:\n",
      "\tMean accuracy on development set\t= 0.610 (+/- 0.019)\n",
      "\tAccuracy on evaluation set\t\t= 0.628\n"
     ]
    }
   ],
   "source": [
    "train_models(X_tr, y_tr, X_ts, y_ts, models)"
   ]
  }
 ],
 "metadata": {
  "interpreter": {
   "hash": "0250550d6d548e4e5a6cdc83ec66018a6064bd14f2654c3f43a648b49f3a281d"
  },
  "kernelspec": {
   "display_name": "venv",
   "language": "python",
   "name": "python3"
  },
  "language_info": {
   "codemirror_mode": {
    "name": "ipython",
    "version": 3
   },
   "file_extension": ".py",
   "mimetype": "text/x-python",
   "name": "python",
   "nbconvert_exporter": "python",
   "pygments_lexer": "ipython3",
   "version": "3.8.10"
  },
  "orig_nbformat": 4
 },
 "nbformat": 4,
 "nbformat_minor": 2
}
